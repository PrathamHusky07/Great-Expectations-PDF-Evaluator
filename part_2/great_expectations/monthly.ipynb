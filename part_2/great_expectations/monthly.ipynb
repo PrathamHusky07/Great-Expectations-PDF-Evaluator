{
 "cells": [
  {
   "cell_type": "code",
   "execution_count": 1,
   "metadata": {},
   "outputs": [
    {
     "name": "stdout",
     "output_type": "stream",
     "text": [
      "Defaulting to user installation because normal site-packages is not writeable\n",
      "Requirement already satisfied: great_expectations in /Users/prathamesh/Library/Python/3.9/lib/python/site-packages (0.17.19)\n",
      "Requirement already satisfied: urllib3>=1.26 in /Users/prathamesh/Library/Python/3.9/lib/python/site-packages (from great_expectations) (2.0.6)\n",
      "Requirement already satisfied: cryptography>=3.2 in /Users/prathamesh/Library/Python/3.9/lib/python/site-packages (from great_expectations) (41.0.4)\n",
      "Requirement already satisfied: typing-extensions>=3.10.0.0 in /Users/prathamesh/Library/Python/3.9/lib/python/site-packages (from great_expectations) (4.8.0)\n",
      "Requirement already satisfied: mistune>=0.8.4 in /Users/prathamesh/Library/Python/3.9/lib/python/site-packages (from great_expectations) (3.0.2)\n",
      "Requirement already satisfied: packaging in /Users/prathamesh/Library/Python/3.9/lib/python/site-packages (from great_expectations) (23.2)\n",
      "Requirement already satisfied: ruamel.yaml<0.17.18,>=0.16 in /Users/prathamesh/Library/Python/3.9/lib/python/site-packages (from great_expectations) (0.17.17)\n",
      "Requirement already satisfied: makefun<2,>=1.7.0 in /Users/prathamesh/Library/Python/3.9/lib/python/site-packages (from great_expectations) (1.15.1)\n",
      "Requirement already satisfied: ipywidgets>=7.5.1 in /Users/prathamesh/Library/Python/3.9/lib/python/site-packages (from great_expectations) (8.1.1)\n",
      "Requirement already satisfied: jinja2>=2.10 in /Users/prathamesh/Library/Python/3.9/lib/python/site-packages (from great_expectations) (3.1.2)\n",
      "Requirement already satisfied: jsonschema>=2.5.1 in /Users/prathamesh/Library/Python/3.9/lib/python/site-packages (from great_expectations) (4.19.1)\n",
      "Requirement already satisfied: scipy>=1.6.0 in /Users/prathamesh/Library/Python/3.9/lib/python/site-packages (from great_expectations) (1.11.3)\n",
      "Requirement already satisfied: tqdm>=4.59.0 in /Users/prathamesh/Library/Python/3.9/lib/python/site-packages (from great_expectations) (4.66.1)\n",
      "Requirement already satisfied: Click!=8.1.4,>=7.1.2 in /Users/prathamesh/Library/Python/3.9/lib/python/site-packages (from great_expectations) (8.1.7)\n",
      "Requirement already satisfied: requests>=2.20 in /Users/prathamesh/Library/Python/3.9/lib/python/site-packages (from great_expectations) (2.31.0)\n",
      "Requirement already satisfied: marshmallow<4.0.0,>=3.7.1 in /Users/prathamesh/Library/Python/3.9/lib/python/site-packages (from great_expectations) (3.20.1)\n",
      "Requirement already satisfied: colorama>=0.4.3 in /Users/prathamesh/Library/Python/3.9/lib/python/site-packages (from great_expectations) (0.4.6)\n",
      "Requirement already satisfied: jsonpatch>=1.22 in /Users/prathamesh/Library/Python/3.9/lib/python/site-packages (from great_expectations) (1.33)\n",
      "Requirement already satisfied: pydantic>=1.9.2 in /Users/prathamesh/Library/Python/3.9/lib/python/site-packages (from great_expectations) (2.4.2)\n",
      "Requirement already satisfied: python-dateutil>=2.8.1 in /Users/prathamesh/Library/Python/3.9/lib/python/site-packages (from great_expectations) (2.8.2)\n",
      "Requirement already satisfied: altair<5.0.0,>=4.2.1 in /Users/prathamesh/Library/Python/3.9/lib/python/site-packages (from great_expectations) (4.2.2)\n",
      "Requirement already satisfied: numpy>=1.21.6 in /Users/prathamesh/Library/Python/3.9/lib/python/site-packages (from great_expectations) (1.26.0)\n",
      "Requirement already satisfied: Ipython>=7.16.3 in /Users/prathamesh/Library/Python/3.9/lib/python/site-packages (from great_expectations) (8.16.1)\n",
      "Requirement already satisfied: tzlocal>=1.2 in /Users/prathamesh/Library/Python/3.9/lib/python/site-packages (from great_expectations) (5.1)\n",
      "Requirement already satisfied: pytz>=2021.3 in /Users/prathamesh/Library/Python/3.9/lib/python/site-packages (from great_expectations) (2023.3.post1)\n",
      "Requirement already satisfied: pandas>=1.1.3 in /Users/prathamesh/Library/Python/3.9/lib/python/site-packages (from great_expectations) (2.1.1)\n",
      "Requirement already satisfied: notebook>=6.4.10 in /Users/prathamesh/Library/Python/3.9/lib/python/site-packages (from great_expectations) (7.0.4)\n",
      "Requirement already satisfied: nbformat>=5.0 in /Users/prathamesh/Library/Python/3.9/lib/python/site-packages (from great_expectations) (5.9.2)\n",
      "Requirement already satisfied: pyparsing>=2.4 in /Users/prathamesh/Library/Python/3.9/lib/python/site-packages (from great_expectations) (3.1.1)\n",
      "Requirement already satisfied: entrypoints in /Users/prathamesh/Library/Python/3.9/lib/python/site-packages (from altair<5.0.0,>=4.2.1->great_expectations) (0.4)\n",
      "Requirement already satisfied: toolz in /Users/prathamesh/Library/Python/3.9/lib/python/site-packages (from altair<5.0.0,>=4.2.1->great_expectations) (0.12.0)\n",
      "Requirement already satisfied: cffi>=1.12 in /Users/prathamesh/Library/Python/3.9/lib/python/site-packages (from cryptography>=3.2->great_expectations) (1.16.0)\n",
      "Requirement already satisfied: pycparser in /Users/prathamesh/Library/Python/3.9/lib/python/site-packages (from cffi>=1.12->cryptography>=3.2->great_expectations) (2.21)\n",
      "Requirement already satisfied: stack-data in /Users/prathamesh/Library/Python/3.9/lib/python/site-packages (from Ipython>=7.16.3->great_expectations) (0.6.3)\n",
      "Requirement already satisfied: traitlets>=5 in /Users/prathamesh/Library/Python/3.9/lib/python/site-packages (from Ipython>=7.16.3->great_expectations) (5.11.2)\n",
      "Requirement already satisfied: prompt-toolkit!=3.0.37,<3.1.0,>=3.0.30 in /Users/prathamesh/Library/Python/3.9/lib/python/site-packages (from Ipython>=7.16.3->great_expectations) (3.0.39)\n",
      "Requirement already satisfied: exceptiongroup in /Users/prathamesh/Library/Python/3.9/lib/python/site-packages (from Ipython>=7.16.3->great_expectations) (1.1.3)\n",
      "Requirement already satisfied: pickleshare in /Users/prathamesh/Library/Python/3.9/lib/python/site-packages (from Ipython>=7.16.3->great_expectations) (0.7.5)\n",
      "Requirement already satisfied: pexpect>4.3 in /Users/prathamesh/Library/Python/3.9/lib/python/site-packages (from Ipython>=7.16.3->great_expectations) (4.8.0)\n",
      "Requirement already satisfied: decorator in /Users/prathamesh/Library/Python/3.9/lib/python/site-packages (from Ipython>=7.16.3->great_expectations) (5.1.1)\n",
      "Requirement already satisfied: matplotlib-inline in /Users/prathamesh/Library/Python/3.9/lib/python/site-packages (from Ipython>=7.16.3->great_expectations) (0.1.6)\n",
      "Requirement already satisfied: jedi>=0.16 in /Users/prathamesh/Library/Python/3.9/lib/python/site-packages (from Ipython>=7.16.3->great_expectations) (0.19.1)\n",
      "Requirement already satisfied: appnope in /Users/prathamesh/Library/Python/3.9/lib/python/site-packages (from Ipython>=7.16.3->great_expectations) (0.1.3)\n",
      "Requirement already satisfied: backcall in /Users/prathamesh/Library/Python/3.9/lib/python/site-packages (from Ipython>=7.16.3->great_expectations) (0.2.0)\n",
      "Requirement already satisfied: pygments>=2.4.0 in /Users/prathamesh/Library/Python/3.9/lib/python/site-packages (from Ipython>=7.16.3->great_expectations) (2.16.1)\n",
      "Requirement already satisfied: widgetsnbextension~=4.0.9 in /Users/prathamesh/Library/Python/3.9/lib/python/site-packages (from ipywidgets>=7.5.1->great_expectations) (4.0.9)\n",
      "Requirement already satisfied: comm>=0.1.3 in /Users/prathamesh/Library/Python/3.9/lib/python/site-packages (from ipywidgets>=7.5.1->great_expectations) (0.1.4)\n",
      "Requirement already satisfied: jupyterlab-widgets~=3.0.9 in /Users/prathamesh/Library/Python/3.9/lib/python/site-packages (from ipywidgets>=7.5.1->great_expectations) (3.0.9)\n",
      "Requirement already satisfied: parso<0.9.0,>=0.8.3 in /Users/prathamesh/Library/Python/3.9/lib/python/site-packages (from jedi>=0.16->Ipython>=7.16.3->great_expectations) (0.8.3)\n",
      "Requirement already satisfied: MarkupSafe>=2.0 in /Users/prathamesh/Library/Python/3.9/lib/python/site-packages (from jinja2>=2.10->great_expectations) (2.1.3)\n",
      "Requirement already satisfied: jsonpointer>=1.9 in /Users/prathamesh/Library/Python/3.9/lib/python/site-packages (from jsonpatch>=1.22->great_expectations) (2.4)\n",
      "Requirement already satisfied: rpds-py>=0.7.1 in /Users/prathamesh/Library/Python/3.9/lib/python/site-packages (from jsonschema>=2.5.1->great_expectations) (0.10.4)\n",
      "Requirement already satisfied: attrs>=22.2.0 in /Users/prathamesh/Library/Python/3.9/lib/python/site-packages (from jsonschema>=2.5.1->great_expectations) (23.1.0)\n",
      "Requirement already satisfied: jsonschema-specifications>=2023.03.6 in /Users/prathamesh/Library/Python/3.9/lib/python/site-packages (from jsonschema>=2.5.1->great_expectations) (2023.7.1)\n",
      "Requirement already satisfied: referencing>=0.28.4 in /Users/prathamesh/Library/Python/3.9/lib/python/site-packages (from jsonschema>=2.5.1->great_expectations) (0.30.2)\n",
      "Requirement already satisfied: jupyter-core in /Users/prathamesh/Library/Python/3.9/lib/python/site-packages (from nbformat>=5.0->great_expectations) (5.3.2)\n",
      "Requirement already satisfied: fastjsonschema in /Users/prathamesh/Library/Python/3.9/lib/python/site-packages (from nbformat>=5.0->great_expectations) (2.18.1)\n",
      "Requirement already satisfied: jupyterlab<5,>=4.0.2 in /Users/prathamesh/Library/Python/3.9/lib/python/site-packages (from notebook>=6.4.10->great_expectations) (4.0.6)\n",
      "Requirement already satisfied: jupyter-server<3,>=2.4.0 in /Users/prathamesh/Library/Python/3.9/lib/python/site-packages (from notebook>=6.4.10->great_expectations) (2.7.3)\n",
      "Requirement already satisfied: notebook-shim<0.3,>=0.2 in /Users/prathamesh/Library/Python/3.9/lib/python/site-packages (from notebook>=6.4.10->great_expectations) (0.2.3)\n",
      "Requirement already satisfied: tornado>=6.2.0 in /Users/prathamesh/Library/Python/3.9/lib/python/site-packages (from notebook>=6.4.10->great_expectations) (6.3.3)\n",
      "Requirement already satisfied: jupyterlab-server<3,>=2.22.1 in /Users/prathamesh/Library/Python/3.9/lib/python/site-packages (from notebook>=6.4.10->great_expectations) (2.25.0)\n",
      "Requirement already satisfied: anyio>=3.1.0 in /Users/prathamesh/Library/Python/3.9/lib/python/site-packages (from jupyter-server<3,>=2.4.0->notebook>=6.4.10->great_expectations) (4.0.0)\n",
      "Requirement already satisfied: jupyter-events>=0.6.0 in /Users/prathamesh/Library/Python/3.9/lib/python/site-packages (from jupyter-server<3,>=2.4.0->notebook>=6.4.10->great_expectations) (0.7.0)\n",
      "Requirement already satisfied: prometheus-client in /Users/prathamesh/Library/Python/3.9/lib/python/site-packages (from jupyter-server<3,>=2.4.0->notebook>=6.4.10->great_expectations) (0.17.1)\n",
      "Requirement already satisfied: argon2-cffi in /Users/prathamesh/Library/Python/3.9/lib/python/site-packages (from jupyter-server<3,>=2.4.0->notebook>=6.4.10->great_expectations) (23.1.0)\n",
      "Requirement already satisfied: jupyter-client>=7.4.4 in /Users/prathamesh/Library/Python/3.9/lib/python/site-packages (from jupyter-server<3,>=2.4.0->notebook>=6.4.10->great_expectations) (8.3.1)\n",
      "Requirement already satisfied: nbconvert>=6.4.4 in /Users/prathamesh/Library/Python/3.9/lib/python/site-packages (from jupyter-server<3,>=2.4.0->notebook>=6.4.10->great_expectations) (7.9.2)\n",
      "Requirement already satisfied: websocket-client in /Users/prathamesh/Library/Python/3.9/lib/python/site-packages (from jupyter-server<3,>=2.4.0->notebook>=6.4.10->great_expectations) (1.6.3)\n",
      "Requirement already satisfied: pyzmq>=24 in /Users/prathamesh/Library/Python/3.9/lib/python/site-packages (from jupyter-server<3,>=2.4.0->notebook>=6.4.10->great_expectations) (25.1.1)\n",
      "Requirement already satisfied: overrides in /Users/prathamesh/Library/Python/3.9/lib/python/site-packages (from jupyter-server<3,>=2.4.0->notebook>=6.4.10->great_expectations) (7.4.0)\n",
      "Requirement already satisfied: terminado>=0.8.3 in /Users/prathamesh/Library/Python/3.9/lib/python/site-packages (from jupyter-server<3,>=2.4.0->notebook>=6.4.10->great_expectations) (0.17.1)\n",
      "Requirement already satisfied: send2trash>=1.8.2 in /Users/prathamesh/Library/Python/3.9/lib/python/site-packages (from jupyter-server<3,>=2.4.0->notebook>=6.4.10->great_expectations) (1.8.2)\n",
      "Requirement already satisfied: jupyter-server-terminals in /Users/prathamesh/Library/Python/3.9/lib/python/site-packages (from jupyter-server<3,>=2.4.0->notebook>=6.4.10->great_expectations) (0.4.4)\n",
      "Requirement already satisfied: idna>=2.8 in /Users/prathamesh/Library/Python/3.9/lib/python/site-packages (from anyio>=3.1.0->jupyter-server<3,>=2.4.0->notebook>=6.4.10->great_expectations) (3.4)\n",
      "Requirement already satisfied: sniffio>=1.1 in /Users/prathamesh/Library/Python/3.9/lib/python/site-packages (from anyio>=3.1.0->jupyter-server<3,>=2.4.0->notebook>=6.4.10->great_expectations) (1.3.0)\n",
      "Requirement already satisfied: importlib-metadata>=4.8.3 in /Users/prathamesh/Library/Python/3.9/lib/python/site-packages (from jupyter-client>=7.4.4->jupyter-server<3,>=2.4.0->notebook>=6.4.10->great_expectations) (6.8.0)\n",
      "Requirement already satisfied: zipp>=0.5 in /Users/prathamesh/Library/Python/3.9/lib/python/site-packages (from importlib-metadata>=4.8.3->jupyter-client>=7.4.4->jupyter-server<3,>=2.4.0->notebook>=6.4.10->great_expectations) (3.17.0)\n",
      "Requirement already satisfied: platformdirs>=2.5 in /Users/prathamesh/Library/Python/3.9/lib/python/site-packages (from jupyter-core->nbformat>=5.0->great_expectations) (3.11.0)\n",
      "Requirement already satisfied: rfc3339-validator in /Users/prathamesh/Library/Python/3.9/lib/python/site-packages (from jupyter-events>=0.6.0->jupyter-server<3,>=2.4.0->notebook>=6.4.10->great_expectations) (0.1.4)\n",
      "Requirement already satisfied: python-json-logger>=2.0.4 in /Users/prathamesh/Library/Python/3.9/lib/python/site-packages (from jupyter-events>=0.6.0->jupyter-server<3,>=2.4.0->notebook>=6.4.10->great_expectations) (2.0.7)\n",
      "Requirement already satisfied: pyyaml>=5.3 in /Users/prathamesh/Library/Python/3.9/lib/python/site-packages (from jupyter-events>=0.6.0->jupyter-server<3,>=2.4.0->notebook>=6.4.10->great_expectations) (6.0.1)\n",
      "Requirement already satisfied: rfc3986-validator>=0.1.1 in /Users/prathamesh/Library/Python/3.9/lib/python/site-packages (from jupyter-events>=0.6.0->jupyter-server<3,>=2.4.0->notebook>=6.4.10->great_expectations) (0.1.1)\n",
      "Requirement already satisfied: uri-template in /Users/prathamesh/Library/Python/3.9/lib/python/site-packages (from jsonschema>=2.5.1->great_expectations) (1.3.0)\n",
      "Requirement already satisfied: fqdn in /Users/prathamesh/Library/Python/3.9/lib/python/site-packages (from jsonschema>=2.5.1->great_expectations) (1.5.1)\n",
      "Requirement already satisfied: webcolors>=1.11 in /Users/prathamesh/Library/Python/3.9/lib/python/site-packages (from jsonschema>=2.5.1->great_expectations) (1.13)\n",
      "Requirement already satisfied: isoduration in /Users/prathamesh/Library/Python/3.9/lib/python/site-packages (from jsonschema>=2.5.1->great_expectations) (20.11.0)\n",
      "Requirement already satisfied: ipykernel in /Users/prathamesh/Library/Python/3.9/lib/python/site-packages (from jupyterlab<5,>=4.0.2->notebook>=6.4.10->great_expectations) (6.25.2)\n",
      "Requirement already satisfied: jupyter-lsp>=2.0.0 in /Users/prathamesh/Library/Python/3.9/lib/python/site-packages (from jupyterlab<5,>=4.0.2->notebook>=6.4.10->great_expectations) (2.2.0)\n",
      "Requirement already satisfied: tomli in /Users/prathamesh/Library/Python/3.9/lib/python/site-packages (from jupyterlab<5,>=4.0.2->notebook>=6.4.10->great_expectations) (2.0.1)\n",
      "Requirement already satisfied: async-lru>=1.0.0 in /Users/prathamesh/Library/Python/3.9/lib/python/site-packages (from jupyterlab<5,>=4.0.2->notebook>=6.4.10->great_expectations) (2.0.4)\n",
      "Requirement already satisfied: babel>=2.10 in /Users/prathamesh/Library/Python/3.9/lib/python/site-packages (from jupyterlab-server<3,>=2.22.1->notebook>=6.4.10->great_expectations) (2.13.0)\n",
      "Requirement already satisfied: json5>=0.9.0 in /Users/prathamesh/Library/Python/3.9/lib/python/site-packages (from jupyterlab-server<3,>=2.22.1->notebook>=6.4.10->great_expectations) (0.9.14)\n",
      "Requirement already satisfied: defusedxml in /Users/prathamesh/Library/Python/3.9/lib/python/site-packages (from nbconvert>=6.4.4->jupyter-server<3,>=2.4.0->notebook>=6.4.10->great_expectations) (0.7.1)\n",
      "Requirement already satisfied: pandocfilters>=1.4.1 in /Users/prathamesh/Library/Python/3.9/lib/python/site-packages (from nbconvert>=6.4.4->jupyter-server<3,>=2.4.0->notebook>=6.4.10->great_expectations) (1.5.0)\n",
      "Requirement already satisfied: nbclient>=0.5.0 in /Users/prathamesh/Library/Python/3.9/lib/python/site-packages (from nbconvert>=6.4.4->jupyter-server<3,>=2.4.0->notebook>=6.4.10->great_expectations) (0.8.0)\n",
      "Requirement already satisfied: tinycss2 in /Users/prathamesh/Library/Python/3.9/lib/python/site-packages (from nbconvert>=6.4.4->jupyter-server<3,>=2.4.0->notebook>=6.4.10->great_expectations) (1.2.1)\n",
      "Requirement already satisfied: beautifulsoup4 in /Users/prathamesh/Library/Python/3.9/lib/python/site-packages (from nbconvert>=6.4.4->jupyter-server<3,>=2.4.0->notebook>=6.4.10->great_expectations) (4.12.2)\n",
      "Requirement already satisfied: bleach!=5.0.0 in /Users/prathamesh/Library/Python/3.9/lib/python/site-packages (from nbconvert>=6.4.4->jupyter-server<3,>=2.4.0->notebook>=6.4.10->great_expectations) (6.0.0)\n",
      "Requirement already satisfied: jupyterlab-pygments in /Users/prathamesh/Library/Python/3.9/lib/python/site-packages (from nbconvert>=6.4.4->jupyter-server<3,>=2.4.0->notebook>=6.4.10->great_expectations) (0.2.2)\n",
      "Requirement already satisfied: six>=1.9.0 in /Library/Developer/CommandLineTools/Library/Frameworks/Python3.framework/Versions/3.9/lib/python3.9/site-packages (from bleach!=5.0.0->nbconvert>=6.4.4->jupyter-server<3,>=2.4.0->notebook>=6.4.10->great_expectations) (1.15.0)\n",
      "Requirement already satisfied: webencodings in /Users/prathamesh/Library/Python/3.9/lib/python/site-packages (from bleach!=5.0.0->nbconvert>=6.4.4->jupyter-server<3,>=2.4.0->notebook>=6.4.10->great_expectations) (0.5.1)\n",
      "Requirement already satisfied: tzdata>=2022.1 in /Users/prathamesh/Library/Python/3.9/lib/python/site-packages (from pandas>=1.1.3->great_expectations) (2023.3)\n",
      "Requirement already satisfied: ptyprocess>=0.5 in /Users/prathamesh/Library/Python/3.9/lib/python/site-packages (from pexpect>4.3->Ipython>=7.16.3->great_expectations) (0.7.0)\n",
      "Requirement already satisfied: wcwidth in /Users/prathamesh/Library/Python/3.9/lib/python/site-packages (from prompt-toolkit!=3.0.37,<3.1.0,>=3.0.30->Ipython>=7.16.3->great_expectations) (0.2.8)\n",
      "Requirement already satisfied: annotated-types>=0.4.0 in /Users/prathamesh/Library/Python/3.9/lib/python/site-packages (from pydantic>=1.9.2->great_expectations) (0.5.0)\n",
      "Requirement already satisfied: pydantic-core==2.10.1 in /Users/prathamesh/Library/Python/3.9/lib/python/site-packages (from pydantic>=1.9.2->great_expectations) (2.10.1)\n",
      "Requirement already satisfied: certifi>=2017.4.17 in /Users/prathamesh/Library/Python/3.9/lib/python/site-packages (from requests>=2.20->great_expectations) (2023.7.22)\n",
      "Requirement already satisfied: charset-normalizer<4,>=2 in /Users/prathamesh/Library/Python/3.9/lib/python/site-packages (from requests>=2.20->great_expectations) (3.3.0)\n",
      "Requirement already satisfied: ruamel.yaml.clib>=0.1.2 in /Users/prathamesh/Library/Python/3.9/lib/python/site-packages (from ruamel.yaml<0.17.18,>=0.16->great_expectations) (0.2.8)\n",
      "Requirement already satisfied: argon2-cffi-bindings in /Users/prathamesh/Library/Python/3.9/lib/python/site-packages (from argon2-cffi->jupyter-server<3,>=2.4.0->notebook>=6.4.10->great_expectations) (21.2.0)\n",
      "Requirement already satisfied: soupsieve>1.2 in /Users/prathamesh/Library/Python/3.9/lib/python/site-packages (from beautifulsoup4->nbconvert>=6.4.4->jupyter-server<3,>=2.4.0->notebook>=6.4.10->great_expectations) (2.5)\n",
      "Requirement already satisfied: nest-asyncio in /Users/prathamesh/Library/Python/3.9/lib/python/site-packages (from ipykernel->jupyterlab<5,>=4.0.2->notebook>=6.4.10->great_expectations) (1.5.8)\n",
      "Requirement already satisfied: debugpy>=1.6.5 in /Users/prathamesh/Library/Python/3.9/lib/python/site-packages (from ipykernel->jupyterlab<5,>=4.0.2->notebook>=6.4.10->great_expectations) (1.8.0)\n",
      "Requirement already satisfied: psutil in /Users/prathamesh/Library/Python/3.9/lib/python/site-packages (from ipykernel->jupyterlab<5,>=4.0.2->notebook>=6.4.10->great_expectations) (5.9.5)\n",
      "Requirement already satisfied: arrow>=0.15.0 in /Users/prathamesh/Library/Python/3.9/lib/python/site-packages (from isoduration->jsonschema>=2.5.1->great_expectations) (1.3.0)\n",
      "Requirement already satisfied: types-python-dateutil>=2.8.10 in /Users/prathamesh/Library/Python/3.9/lib/python/site-packages (from arrow>=0.15.0->isoduration->jsonschema>=2.5.1->great_expectations) (2.8.19.14)\n",
      "Requirement already satisfied: asttokens>=2.1.0 in /Users/prathamesh/Library/Python/3.9/lib/python/site-packages (from stack-data->Ipython>=7.16.3->great_expectations) (2.4.0)\n",
      "Requirement already satisfied: pure-eval in /Users/prathamesh/Library/Python/3.9/lib/python/site-packages (from stack-data->Ipython>=7.16.3->great_expectations) (0.2.2)\n",
      "Requirement already satisfied: executing>=1.2.0 in /Users/prathamesh/Library/Python/3.9/lib/python/site-packages (from stack-data->Ipython>=7.16.3->great_expectations) (2.0.0)\n",
      "\u001b[33mWARNING: You are using pip version 21.2.4; however, version 23.2.1 is available.\n",
      "You should consider upgrading via the '/Library/Developer/CommandLineTools/usr/bin/python3 -m pip install --upgrade pip' command.\u001b[0m\n",
      "Note: you may need to restart the kernel to use updated packages.\n"
     ]
    }
   ],
   "source": [
    "pip install 'great_expectations'"
   ]
  },
  {
   "cell_type": "code",
   "execution_count": 2,
   "metadata": {},
   "outputs": [],
   "source": [
    "import great_expectations as gx\n",
    "from great_expectations.data_context import FileDataContext"
   ]
  },
  {
   "cell_type": "code",
   "execution_count": 3,
   "metadata": {},
   "outputs": [],
   "source": [
    "path_to_repo_dir = \"/Users/prathamesh/Documents/GitHub/Assignment-1/part_2\"\n",
    "path_to_data_dir = f\"{path_to_repo_dir}/gx/data\""
   ]
  },
  {
   "cell_type": "code",
   "execution_count": 4,
   "metadata": {},
   "outputs": [],
   "source": [
    "context = FileDataContext.create(project_root_dir=path_to_repo_dir)"
   ]
  },
  {
   "cell_type": "code",
   "execution_count": 5,
   "metadata": {},
   "outputs": [],
   "source": [
    "context = gx.get_context()\n",
    "expectations_suite_name = \"monthly_performance\""
   ]
  },
  {
   "cell_type": "code",
   "execution_count": 7,
   "metadata": {},
   "outputs": [],
   "source": [
    "validator = context.sources.pandas_default.read_csv(\"/Users/prathamesh/Documents/GitHub/Assignment-1/part_2/output3.csv\")"
   ]
  },
  {
   "cell_type": "code",
   "execution_count": 8,
   "metadata": {},
   "outputs": [
    {
     "data": {
      "application/vnd.jupyter.widget-view+json": {
       "model_id": "50da7ee253de48a58f7a75ceeb6ab994",
       "version_major": 2,
       "version_minor": 0
      },
      "text/plain": [
       "Calculating Metrics:   0%|          | 0/1 [00:00<?, ?it/s]"
      ]
     },
     "metadata": {},
     "output_type": "display_data"
    },
    {
     "data": {
      "text/html": [
       "<div>\n",
       "<style scoped>\n",
       "    .dataframe tbody tr th:only-of-type {\n",
       "        vertical-align: middle;\n",
       "    }\n",
       "\n",
       "    .dataframe tbody tr th {\n",
       "        vertical-align: top;\n",
       "    }\n",
       "\n",
       "    .dataframe thead th {\n",
       "        text-align: right;\n",
       "    }\n",
       "</style>\n",
       "<table border=\"1\" class=\"dataframe\">\n",
       "  <thead>\n",
       "    <tr style=\"text-align: right;\">\n",
       "      <th></th>\n",
       "      <th>Loan_Sequence_Number</th>\n",
       "      <th>Monthly_Reporting_Period</th>\n",
       "      <th>Current_Actual_UPB</th>\n",
       "      <th>Current_Loan_Delinquency_Status</th>\n",
       "      <th>Loan_Age</th>\n",
       "      <th>Remaining_Months_To_Legal_Maturity</th>\n",
       "      <th>Deflect_Settlement_Date</th>\n",
       "      <th>Modification_Flag</th>\n",
       "      <th>Zero_Balanced_Code</th>\n",
       "      <th>Zero_Balanced_Effective_Date</th>\n",
       "      <th>...</th>\n",
       "      <th>Modification_Cost</th>\n",
       "      <th>Step_Modification_Flag</th>\n",
       "      <th>Deferred_Payment_Plan</th>\n",
       "      <th>Estimated_Loan_to_Value(ELTV)</th>\n",
       "      <th>Zero_Balance_Removal_UPB</th>\n",
       "      <th>Delinquent_Accrued_Interest</th>\n",
       "      <th>Delinquency_Due_to_Disaster</th>\n",
       "      <th>Borrower_Assistance_Status_Code</th>\n",
       "      <th>Current_Month_Modification_Cost</th>\n",
       "      <th>Interest_Bearing_UPB</th>\n",
       "    </tr>\n",
       "  </thead>\n",
       "  <tbody>\n",
       "    <tr>\n",
       "      <th>0</th>\n",
       "      <td>F22Q10000012</td>\n",
       "      <td>202202</td>\n",
       "      <td>95000.0</td>\n",
       "      <td>0</td>\n",
       "      <td>0</td>\n",
       "      <td>180</td>\n",
       "      <td>NaN</td>\n",
       "      <td>NaN</td>\n",
       "      <td>NaN</td>\n",
       "      <td>NaN</td>\n",
       "      <td>...</td>\n",
       "      <td>NaN</td>\n",
       "      <td>NaN</td>\n",
       "      <td>NaN</td>\n",
       "      <td>57</td>\n",
       "      <td>NaN</td>\n",
       "      <td>NaN</td>\n",
       "      <td>NaN</td>\n",
       "      <td>NaN</td>\n",
       "      <td>NaN</td>\n",
       "      <td>95000.0</td>\n",
       "    </tr>\n",
       "    <tr>\n",
       "      <th>1</th>\n",
       "      <td>F22Q10000012</td>\n",
       "      <td>202203</td>\n",
       "      <td>94000.0</td>\n",
       "      <td>0</td>\n",
       "      <td>1</td>\n",
       "      <td>179</td>\n",
       "      <td>NaN</td>\n",
       "      <td>NaN</td>\n",
       "      <td>NaN</td>\n",
       "      <td>NaN</td>\n",
       "      <td>...</td>\n",
       "      <td>NaN</td>\n",
       "      <td>NaN</td>\n",
       "      <td>NaN</td>\n",
       "      <td>48</td>\n",
       "      <td>NaN</td>\n",
       "      <td>NaN</td>\n",
       "      <td>NaN</td>\n",
       "      <td>NaN</td>\n",
       "      <td>NaN</td>\n",
       "      <td>94000.0</td>\n",
       "    </tr>\n",
       "    <tr>\n",
       "      <th>2</th>\n",
       "      <td>F22Q10000012</td>\n",
       "      <td>202204</td>\n",
       "      <td>94000.0</td>\n",
       "      <td>0</td>\n",
       "      <td>2</td>\n",
       "      <td>178</td>\n",
       "      <td>NaN</td>\n",
       "      <td>NaN</td>\n",
       "      <td>NaN</td>\n",
       "      <td>NaN</td>\n",
       "      <td>...</td>\n",
       "      <td>NaN</td>\n",
       "      <td>NaN</td>\n",
       "      <td>NaN</td>\n",
       "      <td>52</td>\n",
       "      <td>NaN</td>\n",
       "      <td>NaN</td>\n",
       "      <td>NaN</td>\n",
       "      <td>NaN</td>\n",
       "      <td>NaN</td>\n",
       "      <td>94000.0</td>\n",
       "    </tr>\n",
       "    <tr>\n",
       "      <th>3</th>\n",
       "      <td>F22Q10000012</td>\n",
       "      <td>202205</td>\n",
       "      <td>93000.0</td>\n",
       "      <td>0</td>\n",
       "      <td>3</td>\n",
       "      <td>177</td>\n",
       "      <td>NaN</td>\n",
       "      <td>NaN</td>\n",
       "      <td>NaN</td>\n",
       "      <td>NaN</td>\n",
       "      <td>...</td>\n",
       "      <td>NaN</td>\n",
       "      <td>NaN</td>\n",
       "      <td>NaN</td>\n",
       "      <td>40</td>\n",
       "      <td>NaN</td>\n",
       "      <td>NaN</td>\n",
       "      <td>NaN</td>\n",
       "      <td>NaN</td>\n",
       "      <td>NaN</td>\n",
       "      <td>93000.0</td>\n",
       "    </tr>\n",
       "    <tr>\n",
       "      <th>4</th>\n",
       "      <td>F22Q10000012</td>\n",
       "      <td>202206</td>\n",
       "      <td>93000.0</td>\n",
       "      <td>0</td>\n",
       "      <td>4</td>\n",
       "      <td>176</td>\n",
       "      <td>NaN</td>\n",
       "      <td>NaN</td>\n",
       "      <td>NaN</td>\n",
       "      <td>NaN</td>\n",
       "      <td>...</td>\n",
       "      <td>NaN</td>\n",
       "      <td>NaN</td>\n",
       "      <td>NaN</td>\n",
       "      <td>39</td>\n",
       "      <td>NaN</td>\n",
       "      <td>NaN</td>\n",
       "      <td>NaN</td>\n",
       "      <td>NaN</td>\n",
       "      <td>NaN</td>\n",
       "      <td>93000.0</td>\n",
       "    </tr>\n",
       "  </tbody>\n",
       "</table>\n",
       "<p>5 rows × 32 columns</p>\n",
       "</div>"
      ],
      "text/plain": [
       "  Loan_Sequence_Number  Monthly_Reporting_Period  Current_Actual_UPB  \\\n",
       "0         F22Q10000012                    202202             95000.0   \n",
       "1         F22Q10000012                    202203             94000.0   \n",
       "2         F22Q10000012                    202204             94000.0   \n",
       "3         F22Q10000012                    202205             93000.0   \n",
       "4         F22Q10000012                    202206             93000.0   \n",
       "\n",
       "   Current_Loan_Delinquency_Status  Loan_Age  \\\n",
       "0                                0         0   \n",
       "1                                0         1   \n",
       "2                                0         2   \n",
       "3                                0         3   \n",
       "4                                0         4   \n",
       "\n",
       "   Remaining_Months_To_Legal_Maturity  Deflect_Settlement_Date  \\\n",
       "0                                 180                      NaN   \n",
       "1                                 179                      NaN   \n",
       "2                                 178                      NaN   \n",
       "3                                 177                      NaN   \n",
       "4                                 176                      NaN   \n",
       "\n",
       "  Modification_Flag  Zero_Balanced_Code  Zero_Balanced_Effective_Date  ...  \\\n",
       "0               NaN                 NaN                           NaN  ...   \n",
       "1               NaN                 NaN                           NaN  ...   \n",
       "2               NaN                 NaN                           NaN  ...   \n",
       "3               NaN                 NaN                           NaN  ...   \n",
       "4               NaN                 NaN                           NaN  ...   \n",
       "\n",
       "   Modification_Cost  Step_Modification_Flag  Deferred_Payment_Plan  \\\n",
       "0                NaN                     NaN                    NaN   \n",
       "1                NaN                     NaN                    NaN   \n",
       "2                NaN                     NaN                    NaN   \n",
       "3                NaN                     NaN                    NaN   \n",
       "4                NaN                     NaN                    NaN   \n",
       "\n",
       "   Estimated_Loan_to_Value(ELTV)  Zero_Balance_Removal_UPB  \\\n",
       "0                             57                       NaN   \n",
       "1                             48                       NaN   \n",
       "2                             52                       NaN   \n",
       "3                             40                       NaN   \n",
       "4                             39                       NaN   \n",
       "\n",
       "   Delinquent_Accrued_Interest  Delinquency_Due_to_Disaster  \\\n",
       "0                          NaN                          NaN   \n",
       "1                          NaN                          NaN   \n",
       "2                          NaN                          NaN   \n",
       "3                          NaN                          NaN   \n",
       "4                          NaN                          NaN   \n",
       "\n",
       "   Borrower_Assistance_Status_Code  Current_Month_Modification_Cost  \\\n",
       "0                              NaN                              NaN   \n",
       "1                              NaN                              NaN   \n",
       "2                              NaN                              NaN   \n",
       "3                              NaN                              NaN   \n",
       "4                              NaN                              NaN   \n",
       "\n",
       "   Interest_Bearing_UPB  \n",
       "0               95000.0  \n",
       "1               94000.0  \n",
       "2               94000.0  \n",
       "3               93000.0  \n",
       "4               93000.0  \n",
       "\n",
       "[5 rows x 32 columns]"
      ]
     },
     "execution_count": 8,
     "metadata": {},
     "output_type": "execute_result"
    }
   ],
   "source": [
    "validator.head()"
   ]
  },
  {
   "cell_type": "code",
   "execution_count": 9,
   "metadata": {},
   "outputs": [],
   "source": [
    "# Give your Datasource a name\n",
    "datasource_name = \"Monthly\"\n",
    "datasource = context.sources.add_pandas(datasource_name)\n",
    "\n",
    "# Give your first Asset a name\n",
    "asset_name = \"Asset1\"\n",
    "path_to_data = \"/Users/prathamesh/Documents/GitHub/Assignment-1/part_2/output3.csv\"\n",
    "# to use sample data uncomment next line\n",
    "# path_to_data = \"https://raw.githubusercontent.com/great-expectations/gx_tutorials/main/data/yellow_tripdata_sample_2019-01.csv\"\n",
    "asset = datasource.add_csv_asset(asset_name, filepath_or_buffer=path_to_data)\n",
    "\n",
    "# Build batch request\n",
    "batch_request = asset.build_batch_request()"
   ]
  },
  {
   "cell_type": "code",
   "execution_count": 10,
   "metadata": {},
   "outputs": [],
   "source": [
    "data_asset = context.get_datasource(datasource_name).get_asset(asset_name)\n",
    "batch_request = data_asset.build_batch_request()"
   ]
  },
  {
   "cell_type": "code",
   "execution_count": 11,
   "metadata": {},
   "outputs": [
    {
     "data": {
      "text/plain": [
       "['part2']"
      ]
     },
     "execution_count": 11,
     "metadata": {},
     "output_type": "execute_result"
    }
   ],
   "source": [
    "context.list_expectation_suite_names()"
   ]
  },
  {
   "cell_type": "code",
   "execution_count": 12,
   "metadata": {},
   "outputs": [
    {
     "data": {
      "text/plain": [
       "{\n",
       "  \"expectation_suite_name\": \"monthly_performance\",\n",
       "  \"ge_cloud_id\": null,\n",
       "  \"expectations\": [],\n",
       "  \"data_asset_type\": null,\n",
       "  \"meta\": {\n",
       "    \"great_expectations_version\": \"0.17.19\"\n",
       "  }\n",
       "}"
      ]
     },
     "execution_count": 12,
     "metadata": {},
     "output_type": "execute_result"
    }
   ],
   "source": [
    "context.add_or_update_expectation_suite(expectations_suite_name)"
   ]
  },
  {
   "cell_type": "code",
   "execution_count": 13,
   "metadata": {},
   "outputs": [
    {
     "data": {
      "application/vnd.jupyter.widget-view+json": {
       "model_id": "8bb0c64d49e347139632f0bb99ed2a16",
       "version_major": 2,
       "version_minor": 0
      },
      "text/plain": [
       "Calculating Metrics:   0%|          | 0/1 [00:00<?, ?it/s]"
      ]
     },
     "metadata": {},
     "output_type": "display_data"
    },
    {
     "data": {
      "text/html": [
       "<div>\n",
       "<style scoped>\n",
       "    .dataframe tbody tr th:only-of-type {\n",
       "        vertical-align: middle;\n",
       "    }\n",
       "\n",
       "    .dataframe tbody tr th {\n",
       "        vertical-align: top;\n",
       "    }\n",
       "\n",
       "    .dataframe thead th {\n",
       "        text-align: right;\n",
       "    }\n",
       "</style>\n",
       "<table border=\"1\" class=\"dataframe\">\n",
       "  <thead>\n",
       "    <tr style=\"text-align: right;\">\n",
       "      <th></th>\n",
       "      <th>Loan_Sequence_Number</th>\n",
       "      <th>Monthly_Reporting_Period</th>\n",
       "      <th>Current_Actual_UPB</th>\n",
       "      <th>Current_Loan_Delinquency_Status</th>\n",
       "      <th>Loan_Age</th>\n",
       "      <th>Remaining_Months_To_Legal_Maturity</th>\n",
       "      <th>Deflect_Settlement_Date</th>\n",
       "      <th>Modification_Flag</th>\n",
       "      <th>Zero_Balanced_Code</th>\n",
       "      <th>Zero_Balanced_Effective_Date</th>\n",
       "      <th>...</th>\n",
       "      <th>Modification_Cost</th>\n",
       "      <th>Step_Modification_Flag</th>\n",
       "      <th>Deferred_Payment_Plan</th>\n",
       "      <th>Estimated_Loan_to_Value(ELTV)</th>\n",
       "      <th>Zero_Balance_Removal_UPB</th>\n",
       "      <th>Delinquent_Accrued_Interest</th>\n",
       "      <th>Delinquency_Due_to_Disaster</th>\n",
       "      <th>Borrower_Assistance_Status_Code</th>\n",
       "      <th>Current_Month_Modification_Cost</th>\n",
       "      <th>Interest_Bearing_UPB</th>\n",
       "    </tr>\n",
       "  </thead>\n",
       "  <tbody>\n",
       "    <tr>\n",
       "      <th>0</th>\n",
       "      <td>F22Q10000012</td>\n",
       "      <td>202202</td>\n",
       "      <td>95000.0</td>\n",
       "      <td>0</td>\n",
       "      <td>0</td>\n",
       "      <td>180</td>\n",
       "      <td>NaN</td>\n",
       "      <td>NaN</td>\n",
       "      <td>NaN</td>\n",
       "      <td>NaN</td>\n",
       "      <td>...</td>\n",
       "      <td>NaN</td>\n",
       "      <td>NaN</td>\n",
       "      <td>NaN</td>\n",
       "      <td>57</td>\n",
       "      <td>NaN</td>\n",
       "      <td>NaN</td>\n",
       "      <td>NaN</td>\n",
       "      <td>NaN</td>\n",
       "      <td>NaN</td>\n",
       "      <td>95000.0</td>\n",
       "    </tr>\n",
       "    <tr>\n",
       "      <th>1</th>\n",
       "      <td>F22Q10000012</td>\n",
       "      <td>202203</td>\n",
       "      <td>94000.0</td>\n",
       "      <td>0</td>\n",
       "      <td>1</td>\n",
       "      <td>179</td>\n",
       "      <td>NaN</td>\n",
       "      <td>NaN</td>\n",
       "      <td>NaN</td>\n",
       "      <td>NaN</td>\n",
       "      <td>...</td>\n",
       "      <td>NaN</td>\n",
       "      <td>NaN</td>\n",
       "      <td>NaN</td>\n",
       "      <td>48</td>\n",
       "      <td>NaN</td>\n",
       "      <td>NaN</td>\n",
       "      <td>NaN</td>\n",
       "      <td>NaN</td>\n",
       "      <td>NaN</td>\n",
       "      <td>94000.0</td>\n",
       "    </tr>\n",
       "    <tr>\n",
       "      <th>2</th>\n",
       "      <td>F22Q10000012</td>\n",
       "      <td>202204</td>\n",
       "      <td>94000.0</td>\n",
       "      <td>0</td>\n",
       "      <td>2</td>\n",
       "      <td>178</td>\n",
       "      <td>NaN</td>\n",
       "      <td>NaN</td>\n",
       "      <td>NaN</td>\n",
       "      <td>NaN</td>\n",
       "      <td>...</td>\n",
       "      <td>NaN</td>\n",
       "      <td>NaN</td>\n",
       "      <td>NaN</td>\n",
       "      <td>52</td>\n",
       "      <td>NaN</td>\n",
       "      <td>NaN</td>\n",
       "      <td>NaN</td>\n",
       "      <td>NaN</td>\n",
       "      <td>NaN</td>\n",
       "      <td>94000.0</td>\n",
       "    </tr>\n",
       "    <tr>\n",
       "      <th>3</th>\n",
       "      <td>F22Q10000012</td>\n",
       "      <td>202205</td>\n",
       "      <td>93000.0</td>\n",
       "      <td>0</td>\n",
       "      <td>3</td>\n",
       "      <td>177</td>\n",
       "      <td>NaN</td>\n",
       "      <td>NaN</td>\n",
       "      <td>NaN</td>\n",
       "      <td>NaN</td>\n",
       "      <td>...</td>\n",
       "      <td>NaN</td>\n",
       "      <td>NaN</td>\n",
       "      <td>NaN</td>\n",
       "      <td>40</td>\n",
       "      <td>NaN</td>\n",
       "      <td>NaN</td>\n",
       "      <td>NaN</td>\n",
       "      <td>NaN</td>\n",
       "      <td>NaN</td>\n",
       "      <td>93000.0</td>\n",
       "    </tr>\n",
       "    <tr>\n",
       "      <th>4</th>\n",
       "      <td>F22Q10000012</td>\n",
       "      <td>202206</td>\n",
       "      <td>93000.0</td>\n",
       "      <td>0</td>\n",
       "      <td>4</td>\n",
       "      <td>176</td>\n",
       "      <td>NaN</td>\n",
       "      <td>NaN</td>\n",
       "      <td>NaN</td>\n",
       "      <td>NaN</td>\n",
       "      <td>...</td>\n",
       "      <td>NaN</td>\n",
       "      <td>NaN</td>\n",
       "      <td>NaN</td>\n",
       "      <td>39</td>\n",
       "      <td>NaN</td>\n",
       "      <td>NaN</td>\n",
       "      <td>NaN</td>\n",
       "      <td>NaN</td>\n",
       "      <td>NaN</td>\n",
       "      <td>93000.0</td>\n",
       "    </tr>\n",
       "  </tbody>\n",
       "</table>\n",
       "<p>5 rows × 32 columns</p>\n",
       "</div>"
      ],
      "text/plain": [
       "  Loan_Sequence_Number  Monthly_Reporting_Period  Current_Actual_UPB  \\\n",
       "0         F22Q10000012                    202202             95000.0   \n",
       "1         F22Q10000012                    202203             94000.0   \n",
       "2         F22Q10000012                    202204             94000.0   \n",
       "3         F22Q10000012                    202205             93000.0   \n",
       "4         F22Q10000012                    202206             93000.0   \n",
       "\n",
       "   Current_Loan_Delinquency_Status  Loan_Age  \\\n",
       "0                                0         0   \n",
       "1                                0         1   \n",
       "2                                0         2   \n",
       "3                                0         3   \n",
       "4                                0         4   \n",
       "\n",
       "   Remaining_Months_To_Legal_Maturity  Deflect_Settlement_Date  \\\n",
       "0                                 180                      NaN   \n",
       "1                                 179                      NaN   \n",
       "2                                 178                      NaN   \n",
       "3                                 177                      NaN   \n",
       "4                                 176                      NaN   \n",
       "\n",
       "  Modification_Flag  Zero_Balanced_Code  Zero_Balanced_Effective_Date  ...  \\\n",
       "0               NaN                 NaN                           NaN  ...   \n",
       "1               NaN                 NaN                           NaN  ...   \n",
       "2               NaN                 NaN                           NaN  ...   \n",
       "3               NaN                 NaN                           NaN  ...   \n",
       "4               NaN                 NaN                           NaN  ...   \n",
       "\n",
       "   Modification_Cost  Step_Modification_Flag  Deferred_Payment_Plan  \\\n",
       "0                NaN                     NaN                    NaN   \n",
       "1                NaN                     NaN                    NaN   \n",
       "2                NaN                     NaN                    NaN   \n",
       "3                NaN                     NaN                    NaN   \n",
       "4                NaN                     NaN                    NaN   \n",
       "\n",
       "   Estimated_Loan_to_Value(ELTV)  Zero_Balance_Removal_UPB  \\\n",
       "0                             57                       NaN   \n",
       "1                             48                       NaN   \n",
       "2                             52                       NaN   \n",
       "3                             40                       NaN   \n",
       "4                             39                       NaN   \n",
       "\n",
       "   Delinquent_Accrued_Interest  Delinquency_Due_to_Disaster  \\\n",
       "0                          NaN                          NaN   \n",
       "1                          NaN                          NaN   \n",
       "2                          NaN                          NaN   \n",
       "3                          NaN                          NaN   \n",
       "4                          NaN                          NaN   \n",
       "\n",
       "   Borrower_Assistance_Status_Code  Current_Month_Modification_Cost  \\\n",
       "0                              NaN                              NaN   \n",
       "1                              NaN                              NaN   \n",
       "2                              NaN                              NaN   \n",
       "3                              NaN                              NaN   \n",
       "4                              NaN                              NaN   \n",
       "\n",
       "   Interest_Bearing_UPB  \n",
       "0               95000.0  \n",
       "1               94000.0  \n",
       "2               94000.0  \n",
       "3               93000.0  \n",
       "4               93000.0  \n",
       "\n",
       "[5 rows x 32 columns]"
      ]
     },
     "execution_count": 13,
     "metadata": {},
     "output_type": "execute_result"
    }
   ],
   "source": [
    "validator = context.get_validator(batch_request=batch_request, expectation_suite_name=expectations_suite_name)\n",
    "validator.head()"
   ]
  },
  {
   "cell_type": "code",
   "execution_count": 17,
   "metadata": {},
   "outputs": [
    {
     "data": {
      "application/vnd.jupyter.widget-view+json": {
       "model_id": "fc7aeeda0f79426ba915b378cc646698",
       "version_major": 2,
       "version_minor": 0
      },
      "text/plain": [
       "Calculating Metrics:   0%|          | 0/6 [00:00<?, ?it/s]"
      ]
     },
     "metadata": {},
     "output_type": "display_data"
    },
    {
     "data": {
      "application/vnd.jupyter.widget-view+json": {
       "model_id": "a8b717ae12654228aedc1e9fdec4a9e1",
       "version_major": 2,
       "version_minor": 0
      },
      "text/plain": [
       "Calculating Metrics:   0%|          | 0/4 [00:00<?, ?it/s]"
      ]
     },
     "metadata": {},
     "output_type": "display_data"
    },
    {
     "data": {
      "application/vnd.jupyter.widget-view+json": {
       "model_id": "d34ea2e0c064426393c1873f115eba75",
       "version_major": 2,
       "version_minor": 0
      },
      "text/plain": [
       "Calculating Metrics:   0%|          | 0/4 [00:00<?, ?it/s]"
      ]
     },
     "metadata": {},
     "output_type": "display_data"
    },
    {
     "data": {
      "application/vnd.jupyter.widget-view+json": {
       "model_id": "060b1d047e604c4e80a66837586cf607",
       "version_major": 2,
       "version_minor": 0
      },
      "text/plain": [
       "Calculating Metrics:   0%|          | 0/4 [00:00<?, ?it/s]"
      ]
     },
     "metadata": {},
     "output_type": "display_data"
    },
    {
     "data": {
      "application/vnd.jupyter.widget-view+json": {
       "model_id": "e17921b7aa574e2f87746ba7aeb80c53",
       "version_major": 2,
       "version_minor": 0
      },
      "text/plain": [
       "Calculating Metrics:   0%|          | 0/8 [00:00<?, ?it/s]"
      ]
     },
     "metadata": {},
     "output_type": "display_data"
    },
    {
     "data": {
      "text/plain": [
       "{\n",
       "  \"success\": true,\n",
       "  \"result\": {\n",
       "    \"element_count\": 419440,\n",
       "    \"unexpected_count\": 0,\n",
       "    \"unexpected_percent\": 0.0,\n",
       "    \"partial_unexpected_list\": [],\n",
       "    \"missing_count\": 0,\n",
       "    \"missing_percent\": 0.0,\n",
       "    \"unexpected_percent_total\": 0.0,\n",
       "    \"unexpected_percent_nonmissing\": 0.0\n",
       "  },\n",
       "  \"meta\": {},\n",
       "  \"exception_info\": {\n",
       "    \"raised_exception\": false,\n",
       "    \"exception_traceback\": null,\n",
       "    \"exception_message\": null\n",
       "  }\n",
       "}"
      ]
     },
     "execution_count": 17,
     "metadata": {},
     "output_type": "execute_result"
    }
   ],
   "source": [
    "validator.expect_column_values_to_not_be_null(\"Loan_Age\")\n",
    "validator.expect_column_median_to_be_between(\"Estimated_Loan_to_Value(ELTV)\", min=\"1\",max=\"1000\")\n",
    "validator.expect_column_median_to_be_between(\"Current_Interest_Rate\", min=\"1\",max=\"4\")\n",
    "validator.expect_column_median_to_be_between(\"Monthly_Reporting_Period\", 202201, 202312)\n",
    "validator.expect_column_values_to_match_regex(column=\"Loan_Sequence_Number\",regex=r'^[a-zA-Z0-9]{1,12}$')"
   ]
  },
  {
   "cell_type": "code",
   "execution_count": 18,
   "metadata": {},
   "outputs": [],
   "source": [
    "validator.save_expectation_suite()"
   ]
  },
  {
   "cell_type": "code",
   "execution_count": 19,
   "metadata": {},
   "outputs": [],
   "source": [
    "checkpoint = context.add_or_update_checkpoint(\n",
    "    name = \"Monthly_Checkpoint\",\n",
    "    validator=validator\n",
    ")"
   ]
  },
  {
   "cell_type": "code",
   "execution_count": 20,
   "metadata": {},
   "outputs": [
    {
     "data": {
      "application/vnd.jupyter.widget-view+json": {
       "model_id": "c248e1cf97854886831de76336b98705",
       "version_major": 2,
       "version_minor": 0
      },
      "text/plain": [
       "Calculating Metrics:   0%|          | 0/18 [00:00<?, ?it/s]"
      ]
     },
     "metadata": {},
     "output_type": "display_data"
    }
   ],
   "source": [
    "checkpoint_result = checkpoint.run(run_name=\"Monthly_run\")"
   ]
  },
  {
   "cell_type": "code",
   "execution_count": 21,
   "metadata": {},
   "outputs": [
    {
     "data": {
      "text/plain": [
       "{'local_site': 'file:///Users/prathamesh/Documents/GitHub/Assignment-1/part_2/gx/uncommitted/data_docs/local_site/index.html'}"
      ]
     },
     "execution_count": 21,
     "metadata": {},
     "output_type": "execute_result"
    }
   ],
   "source": [
    "context.build_data_docs()"
   ]
  }
 ],
 "metadata": {
  "kernelspec": {
   "display_name": "Python 3",
   "language": "python",
   "name": "python3"
  },
  "language_info": {
   "codemirror_mode": {
    "name": "ipython",
    "version": 3
   },
   "file_extension": ".py",
   "mimetype": "text/x-python",
   "name": "python",
   "nbconvert_exporter": "python",
   "pygments_lexer": "ipython3",
   "version": "3.9.6"
  },
  "orig_nbformat": 4
 },
 "nbformat": 4,
 "nbformat_minor": 2
}
