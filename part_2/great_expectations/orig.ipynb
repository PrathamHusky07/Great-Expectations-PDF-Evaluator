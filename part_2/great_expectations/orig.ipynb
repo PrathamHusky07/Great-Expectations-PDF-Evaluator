{
 "cells": [
  {
   "cell_type": "code",
   "execution_count": 1,
   "metadata": {},
   "outputs": [
    {
     "name": "stdout",
     "output_type": "stream",
     "text": [
      "Defaulting to user installation because normal site-packages is not writeable\n",
      "Collecting great_expectations\n",
      "  Using cached great_expectations-0.17.19-py3-none-any.whl (5.4 MB)\n",
      "Collecting urllib3>=1.26\n",
      "  Using cached urllib3-2.0.6-py3-none-any.whl (123 kB)\n",
      "Collecting jsonschema>=2.5.1\n",
      "  Using cached jsonschema-4.19.1-py3-none-any.whl (83 kB)\n",
      "Collecting pytz>=2021.3\n",
      "  Using cached pytz-2023.3.post1-py2.py3-none-any.whl (502 kB)\n",
      "Collecting scipy>=1.6.0\n",
      "  Using cached scipy-1.11.3-cp39-cp39-macosx_12_0_arm64.whl (29.7 MB)\n",
      "Collecting altair<5.0.0,>=4.2.1\n",
      "  Using cached altair-4.2.2-py3-none-any.whl (813 kB)\n",
      "Collecting tqdm>=4.59.0\n",
      "  Using cached tqdm-4.66.1-py3-none-any.whl (78 kB)\n",
      "Collecting notebook>=6.4.10\n",
      "  Using cached notebook-7.0.4-py3-none-any.whl (4.0 MB)\n",
      "Collecting pyparsing>=2.4\n",
      "  Using cached pyparsing-3.1.1-py3-none-any.whl (103 kB)\n",
      "Collecting numpy>=1.21.6\n",
      "  Using cached numpy-1.26.0-cp39-cp39-macosx_11_0_arm64.whl (14.0 MB)\n",
      "Collecting tzlocal>=1.2\n",
      "  Using cached tzlocal-5.1-py3-none-any.whl (21 kB)\n",
      "Requirement already satisfied: packaging in /Users/prathamesh/Library/Python/3.9/lib/python/site-packages (from great_expectations) (23.2)\n",
      "Collecting requests>=2.20\n",
      "  Using cached requests-2.31.0-py3-none-any.whl (62 kB)\n",
      "Requirement already satisfied: python-dateutil>=2.8.1 in /Users/prathamesh/Library/Python/3.9/lib/python/site-packages (from great_expectations) (2.8.2)\n",
      "Collecting ipywidgets>=7.5.1\n",
      "  Using cached ipywidgets-8.1.1-py3-none-any.whl (139 kB)\n",
      "Collecting pandas>=1.1.3\n",
      "  Using cached pandas-2.1.1-cp39-cp39-macosx_11_0_arm64.whl (10.9 MB)\n",
      "Collecting colorama>=0.4.3\n",
      "  Using cached colorama-0.4.6-py2.py3-none-any.whl (25 kB)\n",
      "Collecting ruamel.yaml<0.17.18,>=0.16\n",
      "  Using cached ruamel.yaml-0.17.17-py3-none-any.whl (109 kB)\n",
      "Collecting mistune>=0.8.4\n",
      "  Using cached mistune-3.0.2-py3-none-any.whl (47 kB)\n",
      "Collecting marshmallow<4.0.0,>=3.7.1\n",
      "  Using cached marshmallow-3.20.1-py3-none-any.whl (49 kB)\n",
      "Collecting nbformat>=5.0\n",
      "  Using cached nbformat-5.9.2-py3-none-any.whl (77 kB)\n",
      "Collecting pydantic>=1.9.2\n",
      "  Using cached pydantic-2.4.2-py3-none-any.whl (395 kB)\n",
      "Collecting cryptography>=3.2\n",
      "  Using cached cryptography-41.0.4-cp37-abi3-macosx_10_12_universal2.whl (5.3 MB)\n",
      "Requirement already satisfied: typing-extensions>=3.10.0.0 in /Users/prathamesh/Library/Python/3.9/lib/python/site-packages (from great_expectations) (4.8.0)\n",
      "Requirement already satisfied: Ipython>=7.16.3 in /Users/prathamesh/Library/Python/3.9/lib/python/site-packages (from great_expectations) (8.16.1)\n",
      "Collecting jsonpatch>=1.22\n",
      "  Using cached jsonpatch-1.33-py2.py3-none-any.whl (12 kB)\n",
      "Collecting jinja2>=2.10\n",
      "  Using cached Jinja2-3.1.2-py3-none-any.whl (133 kB)\n",
      "Collecting Click!=8.1.4,>=7.1.2\n",
      "  Using cached click-8.1.7-py3-none-any.whl (97 kB)\n",
      "Collecting makefun<2,>=1.7.0\n",
      "  Using cached makefun-1.15.1-py2.py3-none-any.whl (22 kB)\n",
      "Collecting entrypoints\n",
      "  Using cached entrypoints-0.4-py3-none-any.whl (5.3 kB)\n",
      "Collecting toolz\n",
      "  Using cached toolz-0.12.0-py3-none-any.whl (55 kB)\n",
      "Collecting cffi>=1.12\n",
      "  Downloading cffi-1.16.0-cp39-cp39-macosx_11_0_arm64.whl (176 kB)\n",
      "\u001b[K     |████████████████████████████████| 176 kB 1.8 MB/s eta 0:00:01\n",
      "\u001b[?25hCollecting pycparser\n",
      "  Using cached pycparser-2.21-py2.py3-none-any.whl (118 kB)\n",
      "Requirement already satisfied: appnope in /Users/prathamesh/Library/Python/3.9/lib/python/site-packages (from Ipython>=7.16.3->great_expectations) (0.1.3)\n",
      "Requirement already satisfied: traitlets>=5 in /Users/prathamesh/Library/Python/3.9/lib/python/site-packages (from Ipython>=7.16.3->great_expectations) (5.11.2)\n",
      "Requirement already satisfied: pickleshare in /Users/prathamesh/Library/Python/3.9/lib/python/site-packages (from Ipython>=7.16.3->great_expectations) (0.7.5)\n",
      "Requirement already satisfied: backcall in /Users/prathamesh/Library/Python/3.9/lib/python/site-packages (from Ipython>=7.16.3->great_expectations) (0.2.0)\n",
      "Requirement already satisfied: decorator in /Users/prathamesh/Library/Python/3.9/lib/python/site-packages (from Ipython>=7.16.3->great_expectations) (5.1.1)\n",
      "Requirement already satisfied: prompt-toolkit!=3.0.37,<3.1.0,>=3.0.30 in /Users/prathamesh/Library/Python/3.9/lib/python/site-packages (from Ipython>=7.16.3->great_expectations) (3.0.39)\n",
      "Requirement already satisfied: pygments>=2.4.0 in /Users/prathamesh/Library/Python/3.9/lib/python/site-packages (from Ipython>=7.16.3->great_expectations) (2.16.1)\n",
      "Requirement already satisfied: jedi>=0.16 in /Users/prathamesh/Library/Python/3.9/lib/python/site-packages (from Ipython>=7.16.3->great_expectations) (0.19.1)\n",
      "Requirement already satisfied: stack-data in /Users/prathamesh/Library/Python/3.9/lib/python/site-packages (from Ipython>=7.16.3->great_expectations) (0.6.3)\n",
      "Requirement already satisfied: pexpect>4.3 in /Users/prathamesh/Library/Python/3.9/lib/python/site-packages (from Ipython>=7.16.3->great_expectations) (4.8.0)\n",
      "Requirement already satisfied: exceptiongroup in /Users/prathamesh/Library/Python/3.9/lib/python/site-packages (from Ipython>=7.16.3->great_expectations) (1.1.3)\n",
      "Requirement already satisfied: matplotlib-inline in /Users/prathamesh/Library/Python/3.9/lib/python/site-packages (from Ipython>=7.16.3->great_expectations) (0.1.6)\n",
      "Collecting widgetsnbextension~=4.0.9\n",
      "  Using cached widgetsnbextension-4.0.9-py3-none-any.whl (2.3 MB)\n",
      "Requirement already satisfied: comm>=0.1.3 in /Users/prathamesh/Library/Python/3.9/lib/python/site-packages (from ipywidgets>=7.5.1->great_expectations) (0.1.4)\n",
      "Collecting jupyterlab-widgets~=3.0.9\n",
      "  Using cached jupyterlab_widgets-3.0.9-py3-none-any.whl (214 kB)\n",
      "Requirement already satisfied: parso<0.9.0,>=0.8.3 in /Users/prathamesh/Library/Python/3.9/lib/python/site-packages (from jedi>=0.16->Ipython>=7.16.3->great_expectations) (0.8.3)\n",
      "Collecting MarkupSafe>=2.0\n",
      "  Using cached MarkupSafe-2.1.3-cp39-cp39-macosx_10_9_universal2.whl (17 kB)\n",
      "Collecting jsonpointer>=1.9\n",
      "  Using cached jsonpointer-2.4-py2.py3-none-any.whl (7.8 kB)\n",
      "Collecting attrs>=22.2.0\n",
      "  Using cached attrs-23.1.0-py3-none-any.whl (61 kB)\n",
      "Collecting rpds-py>=0.7.1\n",
      "  Downloading rpds_py-0.10.4-cp39-cp39-macosx_11_0_arm64.whl (323 kB)\n",
      "\u001b[K     |████████████████████████████████| 323 kB 1.8 MB/s eta 0:00:01\n",
      "\u001b[?25hCollecting referencing>=0.28.4\n",
      "  Using cached referencing-0.30.2-py3-none-any.whl (25 kB)\n",
      "Collecting jsonschema-specifications>=2023.03.6\n",
      "  Using cached jsonschema_specifications-2023.7.1-py3-none-any.whl (17 kB)\n",
      "Requirement already satisfied: jupyter-core in /Users/prathamesh/Library/Python/3.9/lib/python/site-packages (from nbformat>=5.0->great_expectations) (5.3.2)\n",
      "Collecting fastjsonschema\n",
      "  Using cached fastjsonschema-2.18.1-py3-none-any.whl (23 kB)\n",
      "Collecting notebook-shim<0.3,>=0.2\n",
      "  Using cached notebook_shim-0.2.3-py3-none-any.whl (13 kB)\n",
      "Collecting jupyter-server<3,>=2.4.0\n",
      "  Using cached jupyter_server-2.7.3-py3-none-any.whl (375 kB)\n",
      "Collecting jupyterlab<5,>=4.0.2\n",
      "  Using cached jupyterlab-4.0.6-py3-none-any.whl (9.2 MB)\n",
      "Requirement already satisfied: tornado>=6.2.0 in /Users/prathamesh/Library/Python/3.9/lib/python/site-packages (from notebook>=6.4.10->great_expectations) (6.3.3)\n",
      "Collecting jupyterlab-server<3,>=2.22.1\n",
      "  Using cached jupyterlab_server-2.25.0-py3-none-any.whl (57 kB)\n",
      "Collecting send2trash>=1.8.2\n",
      "  Using cached Send2Trash-1.8.2-py3-none-any.whl (18 kB)\n",
      "Collecting jupyter-server-terminals\n",
      "  Using cached jupyter_server_terminals-0.4.4-py3-none-any.whl (13 kB)\n",
      "Requirement already satisfied: pyzmq>=24 in /Users/prathamesh/Library/Python/3.9/lib/python/site-packages (from jupyter-server<3,>=2.4.0->notebook>=6.4.10->great_expectations) (25.1.1)\n",
      "Collecting nbconvert>=6.4.4\n",
      "  Using cached nbconvert-7.9.2-py3-none-any.whl (256 kB)\n",
      "Collecting overrides\n",
      "  Using cached overrides-7.4.0-py3-none-any.whl (17 kB)\n",
      "Collecting terminado>=0.8.3\n",
      "  Using cached terminado-0.17.1-py3-none-any.whl (17 kB)\n",
      "Collecting websocket-client\n",
      "  Using cached websocket_client-1.6.3-py3-none-any.whl (57 kB)\n",
      "Requirement already satisfied: jupyter-client>=7.4.4 in /Users/prathamesh/Library/Python/3.9/lib/python/site-packages (from jupyter-server<3,>=2.4.0->notebook>=6.4.10->great_expectations) (8.3.1)\n",
      "Collecting argon2-cffi\n",
      "  Using cached argon2_cffi-23.1.0-py3-none-any.whl (15 kB)\n",
      "Collecting prometheus-client\n",
      "  Using cached prometheus_client-0.17.1-py3-none-any.whl (60 kB)\n",
      "Collecting jupyter-events>=0.6.0\n",
      "  Using cached jupyter_events-0.7.0-py3-none-any.whl (18 kB)\n",
      "Collecting anyio>=3.1.0\n",
      "  Using cached anyio-4.0.0-py3-none-any.whl (83 kB)\n",
      "Collecting idna>=2.8\n",
      "  Using cached idna-3.4-py3-none-any.whl (61 kB)\n",
      "Collecting sniffio>=1.1\n",
      "  Using cached sniffio-1.3.0-py3-none-any.whl (10 kB)\n",
      "Requirement already satisfied: importlib-metadata>=4.8.3 in /Users/prathamesh/Library/Python/3.9/lib/python/site-packages (from jupyter-client>=7.4.4->jupyter-server<3,>=2.4.0->notebook>=6.4.10->great_expectations) (6.8.0)\n",
      "Requirement already satisfied: zipp>=0.5 in /Users/prathamesh/Library/Python/3.9/lib/python/site-packages (from importlib-metadata>=4.8.3->jupyter-client>=7.4.4->jupyter-server<3,>=2.4.0->notebook>=6.4.10->great_expectations) (3.17.0)\n",
      "Requirement already satisfied: platformdirs>=2.5 in /Users/prathamesh/Library/Python/3.9/lib/python/site-packages (from jupyter-core->nbformat>=5.0->great_expectations) (3.11.0)\n",
      "Collecting python-json-logger>=2.0.4\n",
      "  Using cached python_json_logger-2.0.7-py3-none-any.whl (8.1 kB)\n",
      "Collecting rfc3986-validator>=0.1.1\n",
      "  Using cached rfc3986_validator-0.1.1-py2.py3-none-any.whl (4.2 kB)\n",
      "Collecting pyyaml>=5.3\n",
      "  Using cached PyYAML-6.0.1-cp39-cp39-macosx_11_0_arm64.whl (174 kB)\n",
      "Collecting rfc3339-validator\n",
      "  Using cached rfc3339_validator-0.1.4-py2.py3-none-any.whl (3.5 kB)\n",
      "Collecting uri-template\n",
      "  Using cached uri_template-1.3.0-py3-none-any.whl (11 kB)\n",
      "Collecting fqdn\n",
      "  Using cached fqdn-1.5.1-py3-none-any.whl (9.1 kB)\n",
      "Collecting webcolors>=1.11\n",
      "  Using cached webcolors-1.13-py3-none-any.whl (14 kB)\n",
      "Collecting isoduration\n",
      "  Using cached isoduration-20.11.0-py3-none-any.whl (11 kB)\n",
      "Collecting async-lru>=1.0.0\n",
      "  Using cached async_lru-2.0.4-py3-none-any.whl (6.1 kB)\n",
      "Collecting tomli\n",
      "  Using cached tomli-2.0.1-py3-none-any.whl (12 kB)\n",
      "Collecting jupyter-lsp>=2.0.0\n",
      "  Using cached jupyter_lsp-2.2.0-py3-none-any.whl (65 kB)\n",
      "Requirement already satisfied: ipykernel in /Users/prathamesh/Library/Python/3.9/lib/python/site-packages (from jupyterlab<5,>=4.0.2->notebook>=6.4.10->great_expectations) (6.25.2)\n",
      "Collecting json5>=0.9.0\n",
      "  Using cached json5-0.9.14-py2.py3-none-any.whl (19 kB)\n",
      "Collecting babel>=2.10\n",
      "  Using cached Babel-2.13.0-py3-none-any.whl (10.1 MB)\n",
      "Collecting bleach!=5.0.0\n",
      "  Using cached bleach-6.0.0-py3-none-any.whl (162 kB)\n",
      "Collecting nbclient>=0.5.0\n",
      "  Using cached nbclient-0.8.0-py3-none-any.whl (73 kB)\n",
      "Collecting defusedxml\n",
      "  Using cached defusedxml-0.7.1-py2.py3-none-any.whl (25 kB)\n",
      "Collecting tinycss2\n",
      "  Using cached tinycss2-1.2.1-py3-none-any.whl (21 kB)\n",
      "Collecting pandocfilters>=1.4.1\n",
      "  Using cached pandocfilters-1.5.0-py2.py3-none-any.whl (8.7 kB)\n",
      "Collecting beautifulsoup4\n",
      "  Using cached beautifulsoup4-4.12.2-py3-none-any.whl (142 kB)\n",
      "Collecting jupyterlab-pygments\n",
      "  Using cached jupyterlab_pygments-0.2.2-py2.py3-none-any.whl (21 kB)\n",
      "Collecting webencodings\n",
      "  Using cached webencodings-0.5.1-py2.py3-none-any.whl (11 kB)\n",
      "Requirement already satisfied: six>=1.9.0 in /Library/Developer/CommandLineTools/Library/Frameworks/Python3.framework/Versions/3.9/lib/python3.9/site-packages (from bleach!=5.0.0->nbconvert>=6.4.4->jupyter-server<3,>=2.4.0->notebook>=6.4.10->great_expectations) (1.15.0)\n",
      "Collecting tzdata>=2022.1\n",
      "  Using cached tzdata-2023.3-py2.py3-none-any.whl (341 kB)\n",
      "Requirement already satisfied: ptyprocess>=0.5 in /Users/prathamesh/Library/Python/3.9/lib/python/site-packages (from pexpect>4.3->Ipython>=7.16.3->great_expectations) (0.7.0)\n",
      "Requirement already satisfied: wcwidth in /Users/prathamesh/Library/Python/3.9/lib/python/site-packages (from prompt-toolkit!=3.0.37,<3.1.0,>=3.0.30->Ipython>=7.16.3->great_expectations) (0.2.8)\n",
      "Collecting annotated-types>=0.4.0\n",
      "  Using cached annotated_types-0.5.0-py3-none-any.whl (11 kB)\n",
      "Collecting pydantic-core==2.10.1\n",
      "  Using cached pydantic_core-2.10.1-cp39-cp39-macosx_11_0_arm64.whl (1.7 MB)\n",
      "Collecting certifi>=2017.4.17\n",
      "  Using cached certifi-2023.7.22-py3-none-any.whl (158 kB)\n",
      "Collecting charset-normalizer<4,>=2\n",
      "  Downloading charset_normalizer-3.3.0-cp39-cp39-macosx_11_0_arm64.whl (117 kB)\n",
      "\u001b[K     |████████████████████████████████| 117 kB 2.0 MB/s eta 0:00:01\n",
      "\u001b[?25hCollecting ruamel.yaml.clib>=0.1.2\n",
      "  Downloading ruamel.yaml.clib-0.2.8-cp39-cp39-macosx_12_0_arm64.whl (134 kB)\n",
      "\u001b[K     |████████████████████████████████| 134 kB 2.1 MB/s eta 0:00:01\n",
      "\u001b[?25hCollecting argon2-cffi-bindings\n",
      "  Using cached argon2_cffi_bindings-21.2.0-cp38-abi3-macosx_10_9_universal2.whl (53 kB)\n",
      "Collecting soupsieve>1.2\n",
      "  Using cached soupsieve-2.5-py3-none-any.whl (36 kB)\n",
      "Requirement already satisfied: nest-asyncio in /Users/prathamesh/Library/Python/3.9/lib/python/site-packages (from ipykernel->jupyterlab<5,>=4.0.2->notebook>=6.4.10->great_expectations) (1.5.8)\n",
      "Requirement already satisfied: psutil in /Users/prathamesh/Library/Python/3.9/lib/python/site-packages (from ipykernel->jupyterlab<5,>=4.0.2->notebook>=6.4.10->great_expectations) (5.9.5)\n",
      "Requirement already satisfied: debugpy>=1.6.5 in /Users/prathamesh/Library/Python/3.9/lib/python/site-packages (from ipykernel->jupyterlab<5,>=4.0.2->notebook>=6.4.10->great_expectations) (1.8.0)\n",
      "Collecting arrow>=0.15.0\n",
      "  Using cached arrow-1.3.0-py3-none-any.whl (66 kB)\n",
      "Collecting types-python-dateutil>=2.8.10\n",
      "  Using cached types_python_dateutil-2.8.19.14-py3-none-any.whl (9.4 kB)\n",
      "Requirement already satisfied: executing>=1.2.0 in /Users/prathamesh/Library/Python/3.9/lib/python/site-packages (from stack-data->Ipython>=7.16.3->great_expectations) (2.0.0)\n",
      "Requirement already satisfied: pure-eval in /Users/prathamesh/Library/Python/3.9/lib/python/site-packages (from stack-data->Ipython>=7.16.3->great_expectations) (0.2.2)\n",
      "Requirement already satisfied: asttokens>=2.1.0 in /Users/prathamesh/Library/Python/3.9/lib/python/site-packages (from stack-data->Ipython>=7.16.3->great_expectations) (2.4.0)\n",
      "Installing collected packages: rpds-py, attrs, referencing, types-python-dateutil, jsonschema-specifications, pycparser, jsonschema, fastjsonschema, arrow, webencodings, webcolors, uri-template, soupsieve, rfc3986-validator, rfc3339-validator, nbformat, MarkupSafe, jsonpointer, isoduration, idna, fqdn, cffi, tinycss2, terminado, sniffio, pyyaml, python-json-logger, pandocfilters, nbclient, mistune, jupyterlab-pygments, jinja2, defusedxml, bleach, beautifulsoup4, argon2-cffi-bindings, websocket-client, urllib3, send2trash, prometheus-client, overrides, nbconvert, jupyter-server-terminals, jupyter-events, charset-normalizer, certifi, argon2-cffi, anyio, requests, jupyter-server, json5, babel, tzdata, tomli, pytz, numpy, notebook-shim, jupyterlab-server, jupyter-lsp, async-lru, widgetsnbextension, toolz, ruamel.yaml.clib, pydantic-core, pandas, jupyterlab-widgets, jupyterlab, entrypoints, annotated-types, tzlocal, tqdm, scipy, ruamel.yaml, pyparsing, pydantic, notebook, marshmallow, makefun, jsonpatch, ipywidgets, cryptography, colorama, Click, altair, great-expectations\n",
      "Successfully installed Click-8.1.7 MarkupSafe-2.1.3 altair-4.2.2 annotated-types-0.5.0 anyio-4.0.0 argon2-cffi-23.1.0 argon2-cffi-bindings-21.2.0 arrow-1.3.0 async-lru-2.0.4 attrs-23.1.0 babel-2.13.0 beautifulsoup4-4.12.2 bleach-6.0.0 certifi-2023.7.22 cffi-1.16.0 charset-normalizer-3.3.0 colorama-0.4.6 cryptography-41.0.4 defusedxml-0.7.1 entrypoints-0.4 fastjsonschema-2.18.1 fqdn-1.5.1 great-expectations-0.17.19 idna-3.4 ipywidgets-8.1.1 isoduration-20.11.0 jinja2-3.1.2 json5-0.9.14 jsonpatch-1.33 jsonpointer-2.4 jsonschema-4.19.1 jsonschema-specifications-2023.7.1 jupyter-events-0.7.0 jupyter-lsp-2.2.0 jupyter-server-2.7.3 jupyter-server-terminals-0.4.4 jupyterlab-4.0.6 jupyterlab-pygments-0.2.2 jupyterlab-server-2.25.0 jupyterlab-widgets-3.0.9 makefun-1.15.1 marshmallow-3.20.1 mistune-3.0.2 nbclient-0.8.0 nbconvert-7.9.2 nbformat-5.9.2 notebook-7.0.4 notebook-shim-0.2.3 numpy-1.26.0 overrides-7.4.0 pandas-2.1.1 pandocfilters-1.5.0 prometheus-client-0.17.1 pycparser-2.21 pydantic-2.4.2 pydantic-core-2.10.1 pyparsing-3.1.1 python-json-logger-2.0.7 pytz-2023.3.post1 pyyaml-6.0.1 referencing-0.30.2 requests-2.31.0 rfc3339-validator-0.1.4 rfc3986-validator-0.1.1 rpds-py-0.10.4 ruamel.yaml-0.17.17 ruamel.yaml.clib-0.2.8 scipy-1.11.3 send2trash-1.8.2 sniffio-1.3.0 soupsieve-2.5 terminado-0.17.1 tinycss2-1.2.1 tomli-2.0.1 toolz-0.12.0 tqdm-4.66.1 types-python-dateutil-2.8.19.14 tzdata-2023.3 tzlocal-5.1 uri-template-1.3.0 urllib3-2.0.6 webcolors-1.13 webencodings-0.5.1 websocket-client-1.6.3 widgetsnbextension-4.0.9\n",
      "\u001b[33mWARNING: You are using pip version 21.2.4; however, version 23.2.1 is available.\n",
      "You should consider upgrading via the '/Library/Developer/CommandLineTools/usr/bin/python3 -m pip install --upgrade pip' command.\u001b[0m\n",
      "Note: you may need to restart the kernel to use updated packages.\n"
     ]
    }
   ],
   "source": [
    "pip install 'great_expectations'"
   ]
  },
  {
   "cell_type": "markdown",
   "metadata": {},
   "source": [
    "Test"
   ]
  },
  {
   "cell_type": "code",
   "execution_count": 19,
   "metadata": {},
   "outputs": [],
   "source": [
    "import great_expectations as gx\n",
    "from great_expectations.data_context import FileDataContext"
   ]
  },
  {
   "cell_type": "code",
   "execution_count": 20,
   "metadata": {},
   "outputs": [],
   "source": [
    "path_to_repo_dir = \"/Users/prathamesh/Documents/GitHub/Assignment-1/part_2\"\n",
    "path_to_data_dir = f\"{path_to_repo_dir}/gx/data\""
   ]
  },
  {
   "cell_type": "code",
   "execution_count": 21,
   "metadata": {},
   "outputs": [],
   "source": [
    "context = FileDataContext.create(project_root_dir=path_to_repo_dir)"
   ]
  },
  {
   "cell_type": "code",
   "execution_count": 22,
   "metadata": {},
   "outputs": [],
   "source": [
    "context = gx.get_context()\n",
    "expectations_suite_name = \"part2\""
   ]
  },
  {
   "cell_type": "code",
   "execution_count": 23,
   "metadata": {},
   "outputs": [],
   "source": [
    "validator = context.sources.pandas_default.read_csv(\"/Users/prathamesh/Documents/GitHub/Assignment-1/part_2/output.csv\")"
   ]
  },
  {
   "cell_type": "code",
   "execution_count": 24,
   "metadata": {},
   "outputs": [
    {
     "data": {
      "application/vnd.jupyter.widget-view+json": {
       "model_id": "3891c1cc4d3c42578752562c0eb9e5cf",
       "version_major": 2,
       "version_minor": 0
      },
      "text/plain": [
       "Calculating Metrics:   0%|          | 0/1 [00:00<?, ?it/s]"
      ]
     },
     "metadata": {},
     "output_type": "display_data"
    },
    {
     "data": {
      "text/html": [
       "<div>\n",
       "<style scoped>\n",
       "    .dataframe tbody tr th:only-of-type {\n",
       "        vertical-align: middle;\n",
       "    }\n",
       "\n",
       "    .dataframe tbody tr th {\n",
       "        vertical-align: top;\n",
       "    }\n",
       "\n",
       "    .dataframe thead th {\n",
       "        text-align: right;\n",
       "    }\n",
       "</style>\n",
       "<table border=\"1\" class=\"dataframe\">\n",
       "  <thead>\n",
       "    <tr style=\"text-align: right;\">\n",
       "      <th></th>\n",
       "      <th>Credit Score</th>\n",
       "      <th>First Payment Date</th>\n",
       "      <th>First Time Homebuyer Flag</th>\n",
       "      <th>Maturity Date</th>\n",
       "      <th>Metropolitan Statistical Area (MSA) Or Metropolitan Division</th>\n",
       "      <th>Mortgage Insurance Percentage (MI %)</th>\n",
       "      <th>Number of Units</th>\n",
       "      <th>Occupancy Status</th>\n",
       "      <th>Original Combined Loan-to-Value (CLTV)</th>\n",
       "      <th>Original Debt-to-Income (DTI) Ratio</th>\n",
       "      <th>...</th>\n",
       "      <th>Number of Borrowers</th>\n",
       "      <th>Seller Name</th>\n",
       "      <th>Servicer Name</th>\n",
       "      <th>Super Conforming Flag</th>\n",
       "      <th>Pre-HARP Loan Sequence Number</th>\n",
       "      <th>Program Indicator</th>\n",
       "      <th>HARP Indicator</th>\n",
       "      <th>Property Valuation Method</th>\n",
       "      <th>Interest Only (I/O) Indicator</th>\n",
       "      <th>Mortgage Insurance Cancellation Indicator</th>\n",
       "    </tr>\n",
       "  </thead>\n",
       "  <tbody>\n",
       "    <tr>\n",
       "      <th>0</th>\n",
       "      <td>763</td>\n",
       "      <td>202203</td>\n",
       "      <td>N</td>\n",
       "      <td>205202</td>\n",
       "      <td>47664.0</td>\n",
       "      <td>0</td>\n",
       "      <td>1</td>\n",
       "      <td>P</td>\n",
       "      <td>95</td>\n",
       "      <td>47</td>\n",
       "      <td>...</td>\n",
       "      <td>2</td>\n",
       "      <td>Other sellers</td>\n",
       "      <td>Other servicers</td>\n",
       "      <td>NaN</td>\n",
       "      <td>NaN</td>\n",
       "      <td>9</td>\n",
       "      <td>NaN</td>\n",
       "      <td>2</td>\n",
       "      <td>N</td>\n",
       "      <td>7</td>\n",
       "    </tr>\n",
       "    <tr>\n",
       "      <th>1</th>\n",
       "      <td>691</td>\n",
       "      <td>202203</td>\n",
       "      <td>N</td>\n",
       "      <td>203702</td>\n",
       "      <td>47664.0</td>\n",
       "      <td>0</td>\n",
       "      <td>1</td>\n",
       "      <td>P</td>\n",
       "      <td>67</td>\n",
       "      <td>25</td>\n",
       "      <td>...</td>\n",
       "      <td>2</td>\n",
       "      <td>Other sellers</td>\n",
       "      <td>Other servicers</td>\n",
       "      <td>NaN</td>\n",
       "      <td>NaN</td>\n",
       "      <td>9</td>\n",
       "      <td>NaN</td>\n",
       "      <td>2</td>\n",
       "      <td>N</td>\n",
       "      <td>7</td>\n",
       "    </tr>\n",
       "    <tr>\n",
       "      <th>2</th>\n",
       "      <td>678</td>\n",
       "      <td>202203</td>\n",
       "      <td>N</td>\n",
       "      <td>203702</td>\n",
       "      <td>NaN</td>\n",
       "      <td>0</td>\n",
       "      <td>2</td>\n",
       "      <td>P</td>\n",
       "      <td>28</td>\n",
       "      <td>44</td>\n",
       "      <td>...</td>\n",
       "      <td>2</td>\n",
       "      <td>Other sellers</td>\n",
       "      <td>U.S. BANK N.A.</td>\n",
       "      <td>NaN</td>\n",
       "      <td>NaN</td>\n",
       "      <td>9</td>\n",
       "      <td>NaN</td>\n",
       "      <td>2</td>\n",
       "      <td>N</td>\n",
       "      <td>7</td>\n",
       "    </tr>\n",
       "    <tr>\n",
       "      <th>3</th>\n",
       "      <td>802</td>\n",
       "      <td>202203</td>\n",
       "      <td>N</td>\n",
       "      <td>205202</td>\n",
       "      <td>33460.0</td>\n",
       "      <td>0</td>\n",
       "      <td>1</td>\n",
       "      <td>P</td>\n",
       "      <td>75</td>\n",
       "      <td>27</td>\n",
       "      <td>...</td>\n",
       "      <td>1</td>\n",
       "      <td>Other sellers</td>\n",
       "      <td>Other servicers</td>\n",
       "      <td>NaN</td>\n",
       "      <td>NaN</td>\n",
       "      <td>9</td>\n",
       "      <td>NaN</td>\n",
       "      <td>2</td>\n",
       "      <td>N</td>\n",
       "      <td>7</td>\n",
       "    </tr>\n",
       "    <tr>\n",
       "      <th>4</th>\n",
       "      <td>767</td>\n",
       "      <td>202203</td>\n",
       "      <td>N</td>\n",
       "      <td>205202</td>\n",
       "      <td>NaN</td>\n",
       "      <td>0</td>\n",
       "      <td>1</td>\n",
       "      <td>P</td>\n",
       "      <td>55</td>\n",
       "      <td>44</td>\n",
       "      <td>...</td>\n",
       "      <td>1</td>\n",
       "      <td>Other sellers</td>\n",
       "      <td>Other servicers</td>\n",
       "      <td>NaN</td>\n",
       "      <td>NaN</td>\n",
       "      <td>9</td>\n",
       "      <td>NaN</td>\n",
       "      <td>2</td>\n",
       "      <td>N</td>\n",
       "      <td>7</td>\n",
       "    </tr>\n",
       "  </tbody>\n",
       "</table>\n",
       "<p>5 rows × 32 columns</p>\n",
       "</div>"
      ],
      "text/plain": [
       "   Credit Score  First Payment Date First Time Homebuyer Flag  Maturity Date  \\\n",
       "0           763              202203                         N         205202   \n",
       "1           691              202203                         N         203702   \n",
       "2           678              202203                         N         203702   \n",
       "3           802              202203                         N         205202   \n",
       "4           767              202203                         N         205202   \n",
       "\n",
       "   Metropolitan Statistical Area (MSA) Or Metropolitan Division  \\\n",
       "0                                            47664.0              \n",
       "1                                            47664.0              \n",
       "2                                                NaN              \n",
       "3                                            33460.0              \n",
       "4                                                NaN              \n",
       "\n",
       "   Mortgage Insurance Percentage (MI %)  Number of Units Occupancy Status  \\\n",
       "0                                     0                1                P   \n",
       "1                                     0                1                P   \n",
       "2                                     0                2                P   \n",
       "3                                     0                1                P   \n",
       "4                                     0                1                P   \n",
       "\n",
       "   Original Combined Loan-to-Value (CLTV)  \\\n",
       "0                                      95   \n",
       "1                                      67   \n",
       "2                                      28   \n",
       "3                                      75   \n",
       "4                                      55   \n",
       "\n",
       "   Original Debt-to-Income (DTI) Ratio  ...  Number of Borrowers  \\\n",
       "0                                   47  ...                    2   \n",
       "1                                   25  ...                    2   \n",
       "2                                   44  ...                    2   \n",
       "3                                   27  ...                    1   \n",
       "4                                   44  ...                    1   \n",
       "\n",
       "     Seller Name    Servicer Name Super Conforming Flag  \\\n",
       "0  Other sellers  Other servicers                   NaN   \n",
       "1  Other sellers  Other servicers                   NaN   \n",
       "2  Other sellers   U.S. BANK N.A.                   NaN   \n",
       "3  Other sellers  Other servicers                   NaN   \n",
       "4  Other sellers  Other servicers                   NaN   \n",
       "\n",
       "  Pre-HARP Loan Sequence Number Program Indicator HARP Indicator  \\\n",
       "0                           NaN                 9            NaN   \n",
       "1                           NaN                 9            NaN   \n",
       "2                           NaN                 9            NaN   \n",
       "3                           NaN                 9            NaN   \n",
       "4                           NaN                 9            NaN   \n",
       "\n",
       "  Property Valuation Method  Interest Only (I/O) Indicator  \\\n",
       "0                         2                              N   \n",
       "1                         2                              N   \n",
       "2                         2                              N   \n",
       "3                         2                              N   \n",
       "4                         2                              N   \n",
       "\n",
       "  Mortgage Insurance Cancellation Indicator  \n",
       "0                                         7  \n",
       "1                                         7  \n",
       "2                                         7  \n",
       "3                                         7  \n",
       "4                                         7  \n",
       "\n",
       "[5 rows x 32 columns]"
      ]
     },
     "execution_count": 24,
     "metadata": {},
     "output_type": "execute_result"
    }
   ],
   "source": [
    "validator.head()"
   ]
  },
  {
   "cell_type": "code",
   "execution_count": 25,
   "metadata": {},
   "outputs": [],
   "source": [
    "# Give your Datasource a name\n",
    "datasource_name = \"File\"\n",
    "datasource = context.sources.add_pandas(datasource_name)\n",
    "\n",
    "# Give your first Asset a name\n",
    "asset_name = \"Asset\"\n",
    "path_to_data = \"/Users/prathamesh/Documents/GitHub/Assignment-1/part_2/output.csv\"\n",
    "# to use sample data uncomment next line\n",
    "# path_to_data = \"https://raw.githubusercontent.com/great-expectations/gx_tutorials/main/data/yellow_tripdata_sample_2019-01.csv\"\n",
    "asset = datasource.add_csv_asset(asset_name, filepath_or_buffer=path_to_data)\n",
    "\n",
    "# Build batch request\n",
    "batch_request = asset.build_batch_request()"
   ]
  },
  {
   "cell_type": "code",
   "execution_count": 26,
   "metadata": {},
   "outputs": [],
   "source": [
    "data_asset = context.get_datasource(datasource_name).get_asset(asset_name)\n",
    "batch_request = data_asset.build_batch_request()"
   ]
  },
  {
   "cell_type": "code",
   "execution_count": 27,
   "metadata": {},
   "outputs": [
    {
     "data": {
      "text/plain": [
       "[]"
      ]
     },
     "execution_count": 27,
     "metadata": {},
     "output_type": "execute_result"
    }
   ],
   "source": [
    "context.list_expectation_suite_names()"
   ]
  },
  {
   "cell_type": "code",
   "execution_count": 28,
   "metadata": {},
   "outputs": [
    {
     "data": {
      "text/plain": [
       "{\n",
       "  \"expectation_suite_name\": \"part2\",\n",
       "  \"ge_cloud_id\": null,\n",
       "  \"expectations\": [],\n",
       "  \"data_asset_type\": null,\n",
       "  \"meta\": {\n",
       "    \"great_expectations_version\": \"0.17.19\"\n",
       "  }\n",
       "}"
      ]
     },
     "execution_count": 28,
     "metadata": {},
     "output_type": "execute_result"
    }
   ],
   "source": [
    "context.add_or_update_expectation_suite(expectations_suite_name)"
   ]
  },
  {
   "cell_type": "code",
   "execution_count": 29,
   "metadata": {},
   "outputs": [
    {
     "data": {
      "application/vnd.jupyter.widget-view+json": {
       "model_id": "da61a612108d4c31a7af8c81f2f554ae",
       "version_major": 2,
       "version_minor": 0
      },
      "text/plain": [
       "Calculating Metrics:   0%|          | 0/1 [00:00<?, ?it/s]"
      ]
     },
     "metadata": {},
     "output_type": "display_data"
    },
    {
     "data": {
      "text/html": [
       "<div>\n",
       "<style scoped>\n",
       "    .dataframe tbody tr th:only-of-type {\n",
       "        vertical-align: middle;\n",
       "    }\n",
       "\n",
       "    .dataframe tbody tr th {\n",
       "        vertical-align: top;\n",
       "    }\n",
       "\n",
       "    .dataframe thead th {\n",
       "        text-align: right;\n",
       "    }\n",
       "</style>\n",
       "<table border=\"1\" class=\"dataframe\">\n",
       "  <thead>\n",
       "    <tr style=\"text-align: right;\">\n",
       "      <th></th>\n",
       "      <th>Credit Score</th>\n",
       "      <th>First Payment Date</th>\n",
       "      <th>First Time Homebuyer Flag</th>\n",
       "      <th>Maturity Date</th>\n",
       "      <th>Metropolitan Statistical Area (MSA) Or Metropolitan Division</th>\n",
       "      <th>Mortgage Insurance Percentage (MI %)</th>\n",
       "      <th>Number of Units</th>\n",
       "      <th>Occupancy Status</th>\n",
       "      <th>Original Combined Loan-to-Value (CLTV)</th>\n",
       "      <th>Original Debt-to-Income (DTI) Ratio</th>\n",
       "      <th>...</th>\n",
       "      <th>Number of Borrowers</th>\n",
       "      <th>Seller Name</th>\n",
       "      <th>Servicer Name</th>\n",
       "      <th>Super Conforming Flag</th>\n",
       "      <th>Pre-HARP Loan Sequence Number</th>\n",
       "      <th>Program Indicator</th>\n",
       "      <th>HARP Indicator</th>\n",
       "      <th>Property Valuation Method</th>\n",
       "      <th>Interest Only (I/O) Indicator</th>\n",
       "      <th>Mortgage Insurance Cancellation Indicator</th>\n",
       "    </tr>\n",
       "  </thead>\n",
       "  <tbody>\n",
       "    <tr>\n",
       "      <th>0</th>\n",
       "      <td>763</td>\n",
       "      <td>202203</td>\n",
       "      <td>N</td>\n",
       "      <td>205202</td>\n",
       "      <td>47664.0</td>\n",
       "      <td>0</td>\n",
       "      <td>1</td>\n",
       "      <td>P</td>\n",
       "      <td>95</td>\n",
       "      <td>47</td>\n",
       "      <td>...</td>\n",
       "      <td>2</td>\n",
       "      <td>Other sellers</td>\n",
       "      <td>Other servicers</td>\n",
       "      <td>NaN</td>\n",
       "      <td>NaN</td>\n",
       "      <td>9</td>\n",
       "      <td>NaN</td>\n",
       "      <td>2</td>\n",
       "      <td>N</td>\n",
       "      <td>7</td>\n",
       "    </tr>\n",
       "    <tr>\n",
       "      <th>1</th>\n",
       "      <td>691</td>\n",
       "      <td>202203</td>\n",
       "      <td>N</td>\n",
       "      <td>203702</td>\n",
       "      <td>47664.0</td>\n",
       "      <td>0</td>\n",
       "      <td>1</td>\n",
       "      <td>P</td>\n",
       "      <td>67</td>\n",
       "      <td>25</td>\n",
       "      <td>...</td>\n",
       "      <td>2</td>\n",
       "      <td>Other sellers</td>\n",
       "      <td>Other servicers</td>\n",
       "      <td>NaN</td>\n",
       "      <td>NaN</td>\n",
       "      <td>9</td>\n",
       "      <td>NaN</td>\n",
       "      <td>2</td>\n",
       "      <td>N</td>\n",
       "      <td>7</td>\n",
       "    </tr>\n",
       "    <tr>\n",
       "      <th>2</th>\n",
       "      <td>678</td>\n",
       "      <td>202203</td>\n",
       "      <td>N</td>\n",
       "      <td>203702</td>\n",
       "      <td>NaN</td>\n",
       "      <td>0</td>\n",
       "      <td>2</td>\n",
       "      <td>P</td>\n",
       "      <td>28</td>\n",
       "      <td>44</td>\n",
       "      <td>...</td>\n",
       "      <td>2</td>\n",
       "      <td>Other sellers</td>\n",
       "      <td>U.S. BANK N.A.</td>\n",
       "      <td>NaN</td>\n",
       "      <td>NaN</td>\n",
       "      <td>9</td>\n",
       "      <td>NaN</td>\n",
       "      <td>2</td>\n",
       "      <td>N</td>\n",
       "      <td>7</td>\n",
       "    </tr>\n",
       "    <tr>\n",
       "      <th>3</th>\n",
       "      <td>802</td>\n",
       "      <td>202203</td>\n",
       "      <td>N</td>\n",
       "      <td>205202</td>\n",
       "      <td>33460.0</td>\n",
       "      <td>0</td>\n",
       "      <td>1</td>\n",
       "      <td>P</td>\n",
       "      <td>75</td>\n",
       "      <td>27</td>\n",
       "      <td>...</td>\n",
       "      <td>1</td>\n",
       "      <td>Other sellers</td>\n",
       "      <td>Other servicers</td>\n",
       "      <td>NaN</td>\n",
       "      <td>NaN</td>\n",
       "      <td>9</td>\n",
       "      <td>NaN</td>\n",
       "      <td>2</td>\n",
       "      <td>N</td>\n",
       "      <td>7</td>\n",
       "    </tr>\n",
       "    <tr>\n",
       "      <th>4</th>\n",
       "      <td>767</td>\n",
       "      <td>202203</td>\n",
       "      <td>N</td>\n",
       "      <td>205202</td>\n",
       "      <td>NaN</td>\n",
       "      <td>0</td>\n",
       "      <td>1</td>\n",
       "      <td>P</td>\n",
       "      <td>55</td>\n",
       "      <td>44</td>\n",
       "      <td>...</td>\n",
       "      <td>1</td>\n",
       "      <td>Other sellers</td>\n",
       "      <td>Other servicers</td>\n",
       "      <td>NaN</td>\n",
       "      <td>NaN</td>\n",
       "      <td>9</td>\n",
       "      <td>NaN</td>\n",
       "      <td>2</td>\n",
       "      <td>N</td>\n",
       "      <td>7</td>\n",
       "    </tr>\n",
       "  </tbody>\n",
       "</table>\n",
       "<p>5 rows × 32 columns</p>\n",
       "</div>"
      ],
      "text/plain": [
       "   Credit Score  First Payment Date First Time Homebuyer Flag  Maturity Date  \\\n",
       "0           763              202203                         N         205202   \n",
       "1           691              202203                         N         203702   \n",
       "2           678              202203                         N         203702   \n",
       "3           802              202203                         N         205202   \n",
       "4           767              202203                         N         205202   \n",
       "\n",
       "   Metropolitan Statistical Area (MSA) Or Metropolitan Division  \\\n",
       "0                                            47664.0              \n",
       "1                                            47664.0              \n",
       "2                                                NaN              \n",
       "3                                            33460.0              \n",
       "4                                                NaN              \n",
       "\n",
       "   Mortgage Insurance Percentage (MI %)  Number of Units Occupancy Status  \\\n",
       "0                                     0                1                P   \n",
       "1                                     0                1                P   \n",
       "2                                     0                2                P   \n",
       "3                                     0                1                P   \n",
       "4                                     0                1                P   \n",
       "\n",
       "   Original Combined Loan-to-Value (CLTV)  \\\n",
       "0                                      95   \n",
       "1                                      67   \n",
       "2                                      28   \n",
       "3                                      75   \n",
       "4                                      55   \n",
       "\n",
       "   Original Debt-to-Income (DTI) Ratio  ...  Number of Borrowers  \\\n",
       "0                                   47  ...                    2   \n",
       "1                                   25  ...                    2   \n",
       "2                                   44  ...                    2   \n",
       "3                                   27  ...                    1   \n",
       "4                                   44  ...                    1   \n",
       "\n",
       "     Seller Name    Servicer Name Super Conforming Flag  \\\n",
       "0  Other sellers  Other servicers                   NaN   \n",
       "1  Other sellers  Other servicers                   NaN   \n",
       "2  Other sellers   U.S. BANK N.A.                   NaN   \n",
       "3  Other sellers  Other servicers                   NaN   \n",
       "4  Other sellers  Other servicers                   NaN   \n",
       "\n",
       "  Pre-HARP Loan Sequence Number Program Indicator HARP Indicator  \\\n",
       "0                           NaN                 9            NaN   \n",
       "1                           NaN                 9            NaN   \n",
       "2                           NaN                 9            NaN   \n",
       "3                           NaN                 9            NaN   \n",
       "4                           NaN                 9            NaN   \n",
       "\n",
       "  Property Valuation Method  Interest Only (I/O) Indicator  \\\n",
       "0                         2                              N   \n",
       "1                         2                              N   \n",
       "2                         2                              N   \n",
       "3                         2                              N   \n",
       "4                         2                              N   \n",
       "\n",
       "  Mortgage Insurance Cancellation Indicator  \n",
       "0                                         7  \n",
       "1                                         7  \n",
       "2                                         7  \n",
       "3                                         7  \n",
       "4                                         7  \n",
       "\n",
       "[5 rows x 32 columns]"
      ]
     },
     "execution_count": 29,
     "metadata": {},
     "output_type": "execute_result"
    }
   ],
   "source": [
    "validator = context.get_validator(batch_request=batch_request, expectation_suite_name=expectations_suite_name)\n",
    "validator.head()"
   ]
  },
  {
   "cell_type": "code",
   "execution_count": 30,
   "metadata": {},
   "outputs": [
    {
     "data": {
      "application/vnd.jupyter.widget-view+json": {
       "model_id": "fdfc4a24325b4fcab547a950f206be2a",
       "version_major": 2,
       "version_minor": 0
      },
      "text/plain": [
       "Calculating Metrics:   0%|          | 0/6 [00:00<?, ?it/s]"
      ]
     },
     "metadata": {},
     "output_type": "display_data"
    },
    {
     "data": {
      "application/vnd.jupyter.widget-view+json": {
       "model_id": "199cd146d3ac4e0bb18a47c8c280f854",
       "version_major": 2,
       "version_minor": 0
      },
      "text/plain": [
       "Calculating Metrics:   0%|          | 0/6 [00:00<?, ?it/s]"
      ]
     },
     "metadata": {},
     "output_type": "display_data"
    },
    {
     "data": {
      "application/vnd.jupyter.widget-view+json": {
       "model_id": "fc8fb7253a3544718a41fdf6cd3a9ae4",
       "version_major": 2,
       "version_minor": 0
      },
      "text/plain": [
       "Calculating Metrics:   0%|          | 0/8 [00:00<?, ?it/s]"
      ]
     },
     "metadata": {},
     "output_type": "display_data"
    },
    {
     "data": {
      "application/vnd.jupyter.widget-view+json": {
       "model_id": "d0a762e496f54e79a0b42749c3732d98",
       "version_major": 2,
       "version_minor": 0
      },
      "text/plain": [
       "Calculating Metrics:   0%|          | 0/4 [00:00<?, ?it/s]"
      ]
     },
     "metadata": {},
     "output_type": "display_data"
    },
    {
     "data": {
      "application/vnd.jupyter.widget-view+json": {
       "model_id": "a4bc982d98294dfdb0e4b02c3652ae8f",
       "version_major": 2,
       "version_minor": 0
      },
      "text/plain": [
       "Calculating Metrics:   0%|          | 0/8 [00:00<?, ?it/s]"
      ]
     },
     "metadata": {},
     "output_type": "display_data"
    },
    {
     "data": {
      "application/vnd.jupyter.widget-view+json": {
       "model_id": "2c8ffd7c8c8f495dbdfa1126e1cb24e4",
       "version_major": 2,
       "version_minor": 0
      },
      "text/plain": [
       "Calculating Metrics:   0%|          | 0/8 [00:00<?, ?it/s]"
      ]
     },
     "metadata": {},
     "output_type": "display_data"
    },
    {
     "data": {
      "application/vnd.jupyter.widget-view+json": {
       "model_id": "0f740e2202af4524bfd76f4a7941ad51",
       "version_major": 2,
       "version_minor": 0
      },
      "text/plain": [
       "Calculating Metrics:   0%|          | 0/8 [00:00<?, ?it/s]"
      ]
     },
     "metadata": {},
     "output_type": "display_data"
    },
    {
     "data": {
      "application/vnd.jupyter.widget-view+json": {
       "model_id": "f74a157b958f4f4d89c8efb29241de56",
       "version_major": 2,
       "version_minor": 0
      },
      "text/plain": [
       "Calculating Metrics:   0%|          | 0/4 [00:00<?, ?it/s]"
      ]
     },
     "metadata": {},
     "output_type": "display_data"
    },
    {
     "data": {
      "text/plain": [
       "{\n",
       "  \"success\": true,\n",
       "  \"result\": {\n",
       "    \"observed_value\": 202204.0\n",
       "  },\n",
       "  \"meta\": {},\n",
       "  \"exception_info\": {\n",
       "    \"raised_exception\": false,\n",
       "    \"exception_traceback\": null,\n",
       "    \"exception_message\": null\n",
       "  }\n",
       "}"
      ]
     },
     "execution_count": 30,
     "metadata": {},
     "output_type": "execute_result"
    }
   ],
   "source": [
    "validator.expect_column_values_to_not_be_null(\"Credit Score\")\n",
    "validator.expect_column_values_to_not_be_null(\"Number of Units\")\n",
    "validator.expect_column_values_to_be_in_set(\"Number of Units\", [1,2,3,4])\n",
    "validator.expect_column_median_to_be_between(\"Original Combined Loan-to-Value (CLTV)\", min=\"10\",max=\"100\")\n",
    "validator.expect_column_values_to_be_in_set(\"Loan Purpose\", [\"P\", \"C\", \"N\"])\n",
    "validator.expect_column_values_to_be_in_set(\"Occupancy Status\", [\"P\", \"I\",\"S\"])\n",
    "validator.expect_column_values_to_be_in_set(\"First Time Homebuyer Flag\", [\"Y\", \"N\"])\n",
    "validator.expect_column_median_to_be_between(\"First Payment Date\", 202201, 202212)"
   ]
  },
  {
   "cell_type": "code",
   "execution_count": 31,
   "metadata": {},
   "outputs": [],
   "source": [
    "validator.save_expectation_suite()"
   ]
  },
  {
   "cell_type": "code",
   "execution_count": 32,
   "metadata": {},
   "outputs": [],
   "source": [
    "checkpoint = context.add_or_update_checkpoint(\n",
    "    name = \"GX_Checkpoint\",\n",
    "    validator=validator\n",
    ")"
   ]
  },
  {
   "cell_type": "code",
   "execution_count": 33,
   "metadata": {},
   "outputs": [
    {
     "data": {
      "application/vnd.jupyter.widget-view+json": {
       "model_id": "5d5d3e406ab0439ba1c95a4e802e98f6",
       "version_major": 2,
       "version_minor": 0
      },
      "text/plain": [
       "Calculating Metrics:   0%|          | 0/41 [00:00<?, ?it/s]"
      ]
     },
     "metadata": {},
     "output_type": "display_data"
    }
   ],
   "source": [
    "checkpoint_result = checkpoint.run(run_name=\"Manual_run7\")"
   ]
  },
  {
   "cell_type": "code",
   "execution_count": 34,
   "metadata": {},
   "outputs": [
    {
     "data": {
      "text/plain": [
       "{'local_site': 'file:///Users/prathamesh/Documents/GitHub/Assignment-1/part_2/gx/uncommitted/data_docs/local_site/index.html'}"
      ]
     },
     "execution_count": 34,
     "metadata": {},
     "output_type": "execute_result"
    }
   ],
   "source": [
    "context.build_data_docs()"
   ]
  }
 ],
 "metadata": {
  "kernelspec": {
   "display_name": "Python 3",
   "language": "python",
   "name": "python3"
  },
  "language_info": {
   "codemirror_mode": {
    "name": "ipython",
    "version": 3
   },
   "file_extension": ".py",
   "mimetype": "text/x-python",
   "name": "python",
   "nbconvert_exporter": "python",
   "pygments_lexer": "ipython3",
   "version": "3.9.6"
  },
  "orig_nbformat": 4
 },
 "nbformat": 4,
 "nbformat_minor": 2
}
